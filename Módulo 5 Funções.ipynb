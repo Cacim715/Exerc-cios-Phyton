{
  "nbformat": 4,
  "nbformat_minor": 0,
  "metadata": {
    "colab": {
      "provenance": []
    },
    "kernelspec": {
      "name": "python3",
      "display_name": "Python 3"
    },
    "language_info": {
      "name": "python"
    }
  },
  "cells": [
    {
      "cell_type": "code",
      "execution_count": 1,
      "metadata": {
        "colab": {
          "base_uri": "https://localhost:8080/"
        },
        "id": "_TCrO0CcyGvN",
        "outputId": "3411f89c-719d-4bab-8dc3-6d8f19d2deef"
      },
      "outputs": [
        {
          "output_type": "stream",
          "name": "stdout",
          "text": [
            "Digite o primeiro número: 5\n",
            "Digite o segundo número: 7\n",
            "A diferença absoluta entre os números é: 2.0\n"
          ]
        }
      ],
      "source": [
        "# aula1_questao1.py\n",
        "\n",
        "# Solicita os números\n",
        "num1 = float(input(\"Digite o primeiro número: \"))\n",
        "num2 = float(input(\"Digite o segundo número: \"))\n",
        "\n",
        "# Calcula a diferença absoluta e arredonda\n",
        "diferenca = round(abs(num1 - num2), 2)\n",
        "\n",
        "# Mostra o resultado\n",
        "print(f\"A diferença absoluta entre os números é: {diferenca}\")\n"
      ]
    },
    {
      "cell_type": "code",
      "source": [
        "# aula1_questao2.py\n",
        "\n",
        "import random\n",
        "import math\n",
        "\n",
        "# Pede a quantidade de números\n",
        "n = int(input(\"Digite a quantidade de números inteiros aleatórios: \"))\n",
        "\n",
        "soma = 0\n",
        "for _ in range(n):\n",
        "    valor = random.randint(0, 100)\n",
        "    soma += valor\n",
        "    print(f\"Valor gerado: {valor}\")\n",
        "\n",
        "# Calcula a raiz quadrada da soma\n",
        "raiz = math.sqrt(soma)\n",
        "\n",
        "print(f\"\\nSoma dos valores: {soma}\")\n",
        "print(f\"Raiz quadrada da soma: {raiz:.2f}\")\n"
      ],
      "metadata": {
        "colab": {
          "base_uri": "https://localhost:8080/"
        },
        "id": "6ZeFHN7uyS8k",
        "outputId": "c89d152e-b00c-4b26-a799-0a9fd7c6fdba"
      },
      "execution_count": 2,
      "outputs": [
        {
          "output_type": "stream",
          "name": "stdout",
          "text": [
            "Digite a quantidade de números inteiros aleatórios: 3\n",
            "Valor gerado: 70\n",
            "Valor gerado: 25\n",
            "Valor gerado: 67\n",
            "\n",
            "Soma dos valores: 162\n",
            "Raiz quadrada da soma: 12.73\n"
          ]
        }
      ]
    },
    {
      "cell_type": "code",
      "source": [
        "# aula1_questao3.py\n",
        "\n",
        "import random\n",
        "\n",
        "# Gera número secreto\n",
        "numero_secreto = random.randint(1, 10)\n",
        "\n",
        "while True:\n",
        "    palpite = int(input(\"Adivinhe o número entre 1 e 10: \"))\n",
        "\n",
        "    if palpite > numero_secreto:\n",
        "        print(\"Muito alto, tente novamente!\")\n",
        "    elif palpite < numero_secreto:\n",
        "        print(\"Muito baixo, tente novamente!\")\n",
        "    else:\n",
        "        print(f\"Correto! O número é {numero_secreto}.\")\n",
        "        break\n"
      ],
      "metadata": {
        "colab": {
          "base_uri": "https://localhost:8080/"
        },
        "id": "HktarDiKybga",
        "outputId": "23dabfe0-9076-493e-e311-9eeaecfb07e9"
      },
      "execution_count": 3,
      "outputs": [
        {
          "output_type": "stream",
          "name": "stdout",
          "text": [
            "Adivinhe o número entre 1 e 10: 6\n",
            "Muito alto, tente novamente!\n",
            "Adivinhe o número entre 1 e 10: 8\n",
            "Muito alto, tente novamente!\n",
            "Adivinhe o número entre 1 e 10: 4\n",
            "Muito baixo, tente novamente!\n",
            "Adivinhe o número entre 1 e 10: 9\n",
            "Muito alto, tente novamente!\n",
            "Adivinhe o número entre 1 e 10: 7\n",
            "Muito alto, tente novamente!\n",
            "Adivinhe o número entre 1 e 10: 6\n",
            "Muito alto, tente novamente!\n",
            "Adivinhe o número entre 1 e 10: 5\n",
            "Correto! O número é 5.\n"
          ]
        }
      ]
    },
    {
      "cell_type": "code",
      "source": [
        "# aula1_questao4.py\n",
        "\n",
        "import datetime\n",
        "\n",
        "# Pega a data e hora atuais\n",
        "agora = datetime.datetime.now()\n",
        "\n",
        "# Formata para sempre ter dois dígitos\n",
        "data = f\"{agora.day:02d}/{agora.month:02d}/{agora.year}\"\n",
        "hora = f\"{agora.hour:02d}:{agora.minute:02d}\"\n",
        "\n",
        "print(f\"Data: {data}\")\n",
        "print(f\"Hora: {hora}\")\n"
      ],
      "metadata": {
        "colab": {
          "base_uri": "https://localhost:8080/"
        },
        "id": "BqwKHpP9ypfA",
        "outputId": "77a44bd9-b222-4af3-b5bd-4c1778749df0"
      },
      "execution_count": 4,
      "outputs": [
        {
          "output_type": "stream",
          "name": "stdout",
          "text": [
            "Data: 02/10/2025\n",
            "Hora: 21:18\n"
          ]
        }
      ]
    },
    {
      "cell_type": "code",
      "source": [
        "# aula1_questao5.py\n",
        "\n",
        "import emoji\n",
        "\n",
        "print(\"Emojis disponíveis:\\n\")\n",
        "print(\"❤️ - :red_heart:\")\n",
        "print(\"👍 - :thumbs_up:\")\n",
        "print(\"🤔 - :thinking_face:\")\n",
        "print(\"🥳 - :partying_face:\")\n",
        "\n",
        "# Solicita a frase codificada\n",
        "frase = input(\"\\nDigite uma frase e ela será emojizada:\\n\")\n",
        "\n",
        "# Converte para emojis\n",
        "frase_emojizada = emoji.emojize(frase, language=\"alias\")\n",
        "\n",
        "print(\"\\nFrase emojizada:\")\n",
        "print(frase_emojizada)\n"
      ],
      "metadata": {
        "colab": {
          "base_uri": "https://localhost:8080/",
          "height": 383
        },
        "id": "CqcyoZIPyvmZ",
        "outputId": "21b4cb5c-e58e-4456-ef3a-3398e7800d3a"
      },
      "execution_count": 5,
      "outputs": [
        {
          "output_type": "error",
          "ename": "ModuleNotFoundError",
          "evalue": "No module named 'emoji'",
          "traceback": [
            "\u001b[0;31m---------------------------------------------------------------------------\u001b[0m",
            "\u001b[0;31mModuleNotFoundError\u001b[0m                       Traceback (most recent call last)",
            "\u001b[0;32m/tmp/ipython-input-3935659072.py\u001b[0m in \u001b[0;36m<cell line: 0>\u001b[0;34m()\u001b[0m\n\u001b[1;32m      1\u001b[0m \u001b[0;31m# aula1_questao5.py\u001b[0m\u001b[0;34m\u001b[0m\u001b[0;34m\u001b[0m\u001b[0m\n\u001b[1;32m      2\u001b[0m \u001b[0;34m\u001b[0m\u001b[0m\n\u001b[0;32m----> 3\u001b[0;31m \u001b[0;32mimport\u001b[0m \u001b[0memoji\u001b[0m\u001b[0;34m\u001b[0m\u001b[0;34m\u001b[0m\u001b[0m\n\u001b[0m\u001b[1;32m      4\u001b[0m \u001b[0;34m\u001b[0m\u001b[0m\n\u001b[1;32m      5\u001b[0m \u001b[0mprint\u001b[0m\u001b[0;34m(\u001b[0m\u001b[0;34m\"Emojis disponíveis:\\n\"\u001b[0m\u001b[0;34m)\u001b[0m\u001b[0;34m\u001b[0m\u001b[0;34m\u001b[0m\u001b[0m\n",
            "\u001b[0;31mModuleNotFoundError\u001b[0m: No module named 'emoji'",
            "",
            "\u001b[0;31m---------------------------------------------------------------------------\u001b[0;32m\nNOTE: If your import is failing due to a missing package, you can\nmanually install dependencies using either !pip or !apt.\n\nTo view examples of installing some common dependencies, click the\n\"Open Examples\" button below.\n\u001b[0;31m---------------------------------------------------------------------------\u001b[0m\n"
          ],
          "errorDetails": {
            "actions": [
              {
                "action": "open_url",
                "actionText": "Open Examples",
                "url": "/notebooks/snippets/importing_libraries.ipynb"
              }
            ]
          }
        }
      ]
    },
    {
      "cell_type": "code",
      "source": [
        "# aula1_questao5.py\n",
        "\n",
        "import emoji\n",
        "\n",
        "print(\"Emojis disponíveis:\\n\")\n",
        "print(\"❤️ - :red_heart:\")\n",
        "print(\"👍 - :thumbs_up:\")\n",
        "print(\"🤔 - :thinking_face:\")\n",
        "print(\"🥳 - :partying_face:\")\n",
        "\n",
        "# Solicita a frase codificada\n",
        "frase = input(\"\\nDigite uma frase e ela será emojizada:\\n\")\n",
        "\n",
        "# Converte para emojis\n",
        "frase_emojizada = emoji.emojize(frase, language=\"alias\")\n",
        "\n",
        "print(\"\\nFrase emojizada:\")\n",
        "print(frase_emojizada)\n"
      ],
      "metadata": {
        "colab": {
          "base_uri": "https://localhost:8080/"
        },
        "id": "TrMx3Z-azAx2",
        "outputId": "aa8570aa-64a1-4395-febc-a78fd4b3690d"
      },
      "execution_count": 7,
      "outputs": [
        {
          "output_type": "stream",
          "name": "stdout",
          "text": [
            "Emojis disponíveis:\n",
            "\n",
            "❤️ - :red_heart:\n",
            "👍 - :thumbs_up:\n",
            "🤔 - :thinking_face:\n",
            "🥳 - :partying_face:\n",
            "\n",
            "Digite uma frase e ela será emojizada:\n",
            "Eu amo minha amiga\n",
            "\n",
            "Frase emojizada:\n",
            "Eu amo minha amiga\n"
          ]
        }
      ]
    },
    {
      "cell_type": "code",
      "metadata": {
        "colab": {
          "base_uri": "https://localhost:8080/"
        },
        "id": "5532bdd1",
        "outputId": "036e1a90-a2c7-4db1-9758-66a5f56506a8"
      },
      "source": [
        "%pip install emoji"
      ],
      "execution_count": 6,
      "outputs": [
        {
          "output_type": "stream",
          "name": "stdout",
          "text": [
            "Collecting emoji\n",
            "  Downloading emoji-2.15.0-py3-none-any.whl.metadata (5.7 kB)\n",
            "Downloading emoji-2.15.0-py3-none-any.whl (608 kB)\n",
            "\u001b[2K   \u001b[90m━━━━━━━━━━━━━━━━━━━━━━━━━━━━━━━━━━━━━━━━\u001b[0m \u001b[32m608.4/608.4 kB\u001b[0m \u001b[31m9.4 MB/s\u001b[0m eta \u001b[36m0:00:00\u001b[0m\n",
            "\u001b[?25hInstalling collected packages: emoji\n",
            "Successfully installed emoji-2.15.0\n"
          ]
        }
      ]
    }
  ]
}