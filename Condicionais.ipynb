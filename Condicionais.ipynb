{
  "nbformat": 4,
  "nbformat_minor": 0,
  "metadata": {
    "colab": {
      "provenance": []
    },
    "kernelspec": {
      "name": "python3",
      "display_name": "Python 3"
    },
    "language_info": {
      "name": "python"
    }
  },
  "cells": [
    {
      "cell_type": "code",
      "execution_count": 1,
      "metadata": {
        "colab": {
          "base_uri": "https://localhost:8080/"
        },
        "id": "uAXCm9c5Gsg5",
        "outputId": "a1f27558-7808-4838-922b-bfea6f890306"
      },
      "outputs": [
        {
          "output_type": "stream",
          "name": "stdout",
          "text": [
            "Digite a idade de Juliana: 25\n",
            "Digite a idade de Cris: 19\n",
            "True\n"
          ]
        }
      ],
      "source": [
        "# Solicita a idade de Juliana\n",
        "idade_juliana = int(input(\"Digite a idade de Juliana: \"))\n",
        "\n",
        "# Solicita a idade de Cris\n",
        "idade_cris = int(input(\"Digite a idade de Cris: \"))\n",
        "\n",
        "# Verifica se ambas têm mais de 17 anos\n",
        "pode_entrar = idade_juliana > 17 and idade_cris > 17\n",
        "\n",
        "# Imprime o resultado\n",
        "print(pode_entrar)\n"
      ]
    },
    {
      "cell_type": "code",
      "source": [
        "# Solicita a idade de Juliana\n",
        "idade_juliana = int(input(\"Digite a idade de Juliana: \"))\n",
        "\n",
        "# Solicita a idade de Cris\n",
        "idade_cris = int(input(\"Digite a idade de Cris: \"))\n",
        "\n",
        "# Verifica se pelo menos uma é maior de idade\n",
        "pode_entrar = idade_juliana > 17 or idade_cris > 17\n",
        "\n",
        "# Imprime o resultado\n",
        "print(pode_entrar)\n"
      ],
      "metadata": {
        "colab": {
          "base_uri": "https://localhost:8080/"
        },
        "id": "CsGoYlY3HZVN",
        "outputId": "2df6cc23-f4b6-40de-c4f4-4c6cde831f51"
      },
      "execution_count": 2,
      "outputs": [
        {
          "output_type": "stream",
          "name": "stdout",
          "text": [
            "Digite a idade de Juliana: 18\n",
            "Digite a idade de Cris: 21\n",
            "True\n"
          ]
        }
      ]
    },
    {
      "cell_type": "code",
      "source": [
        "# Solicita a idade do participante\n",
        "idade = int(input(\"Digite sua idade: \"))\n",
        "\n",
        "# Pergunta se já jogou pelo menos 3 jogos\n",
        "jogou3_ou_mais = input(\"Já jogou pelo menos 3 jogos de tabuleiro? (True/False) \")\n",
        "jogou3_ou_mais = jogou3_ou_mais == \"True\"  # Converte string para boolean\n",
        "\n",
        "# Solicita o número de vitórias\n",
        "vitorias = int(input(\"Quantos jogos já venceu? \"))\n",
        "\n",
        "# Verifica se o participante está apto a entrar\n",
        "apto = (16 <= idade <= 18) and jogou3_ou_mais and vitorias >= 1\n",
        "\n",
        "# Imprime o resultado\n",
        "print(\"Apto para ingressar no clube de jogos de tabuleiro:\", apto)\n"
      ],
      "metadata": {
        "colab": {
          "base_uri": "https://localhost:8080/"
        },
        "id": "XxNcUt6xHhpp",
        "outputId": "4767b4b6-a42b-4432-9a01-0ecb738ac5e4"
      },
      "execution_count": 3,
      "outputs": [
        {
          "output_type": "stream",
          "name": "stdout",
          "text": [
            "Digite sua idade: 28\n",
            "Já jogou pelo menos 3 jogos de tabuleiro? (True/False) true\n",
            "Quantos jogos já venceu? 3\n",
            "Apto para ingressar no clube de jogos de tabuleiro: False\n"
          ]
        }
      ]
    },
    {
      "cell_type": "code",
      "source": [
        "# Solicita a classe do personagem\n",
        "classe = input(\"Escolha a classe (guerreiro, mago ou arqueiro): \").lower()\n",
        "\n",
        "# Solicita os pontos de atributos\n",
        "forca = int(input(\"Digite os pontos de força (de 1 a 20): \"))\n",
        "magia = int(input(\"Digite os pontos de magia (de 1 a 20): \"))\n",
        "\n",
        "# Valida os pontos de acordo com a classe\n",
        "if classe == \"guerreiro\":\n",
        "    valido = forca >= 15 and magia <= 10\n",
        "elif classe == \"mago\":\n",
        "    valido = forca <= 10 and magia >= 15\n",
        "elif classe == \"arqueiro\":\n",
        "    valido = (5 < forca <= 15) and (5 < magia <= 15)\n",
        "else:\n",
        "    valido = False\n",
        "\n",
        "# Imprime o resultado\n",
        "print(\"Pontos de atributo consistentes com a classe escolhida:\", valido)\n"
      ],
      "metadata": {
        "colab": {
          "base_uri": "https://localhost:8080/"
        },
        "id": "EKhdrRv5HtzC",
        "outputId": "e060b3b1-97be-4f61-d822-af0e7a20ac75"
      },
      "execution_count": 4,
      "outputs": [
        {
          "output_type": "stream",
          "name": "stdout",
          "text": [
            "Escolha a classe (guerreiro, mago ou arqueiro): guerreiro\n",
            "Digite os pontos de força (de 1 a 20): 19\n",
            "Digite os pontos de magia (de 1 a 20): 17\n",
            "Pontos de atributo consistentes com a classe escolhida: False\n"
          ]
        }
      ]
    },
    {
      "cell_type": "code",
      "source": [
        "# Solicita gênero\n",
        "genero = input(\"Digite seu gênero (M/F): \").upper()\n",
        "\n",
        "# Solicita idade\n",
        "idade = int(input(\"Digite sua idade: \"))\n",
        "\n",
        "# Solicita tempo de serviço em anos\n",
        "tempo_servico = int(input(\"Digite seu tempo de serviço (anos): \"))\n",
        "\n",
        "# Verifica se a pessoa pode se aposentar\n",
        "aposentadoria = (\n",
        "    (genero == \"F\" and idade > 60) or\n",
        "    (genero == \"M\" and idade > 65) or\n",
        "    (tempo_servico >= 30) or\n",
        "    (idade >= 60 and tempo_servico >= 25)\n",
        ")\n",
        "\n",
        "# Imprime o resultado\n",
        "print(aposentadoria)\n"
      ],
      "metadata": {
        "colab": {
          "base_uri": "https://localhost:8080/"
        },
        "id": "akXyYksOIDmE",
        "outputId": "20e9bd6d-a27a-4f71-cbb7-db31ca5c6c3c"
      },
      "execution_count": 5,
      "outputs": [
        {
          "output_type": "stream",
          "name": "stdout",
          "text": [
            "Digite seu gênero (M/F): m\n",
            "Digite sua idade: 28\n",
            "Digite seu tempo de serviço (anos): 3\n",
            "False\n"
          ]
        }
      ]
    }
  ]
}