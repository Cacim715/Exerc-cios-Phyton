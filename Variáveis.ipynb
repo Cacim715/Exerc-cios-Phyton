{
  "nbformat": 4,
  "nbformat_minor": 0,
  "metadata": {
    "colab": {
      "provenance": []
    },
    "kernelspec": {
      "name": "python3",
      "display_name": "Python 3"
    },
    "language_info": {
      "name": "python"
    }
  },
  "cells": [
    {
      "cell_type": "code",
      "execution_count": 2,
      "metadata": {
        "id": "e2k7jzDM68Az"
      },
      "outputs": [],
      "source": [
        "# 🟢 Módulo 2 - Variáveis\n",
        "## Aula 2.1 - Exercícios\n"
      ]
    },
    {
      "cell_type": "code",
      "source": [
        "# =========================\n",
        "# 🟡 Q3 – Calcular a média de três números\n",
        "# =========================\n",
        "\n",
        "# Declarando três variáveis com valores inteiros\n",
        "num1 = 10\n",
        "num2 = 20\n",
        "num3 = 30\n",
        "\n",
        "# Calculando a média\n",
        "media = (num1 + num2 + num3) / 3\n",
        "\n",
        "# Imprimindo a média\n",
        "print(\"A média é:\", media)\n",
        "\n",
        "# -------------------------\n",
        "# Saída esperada:\n",
        "# A média é: 20.0\n",
        "# -------------------------\n"
      ],
      "metadata": {
        "colab": {
          "base_uri": "https://localhost:8080/"
        },
        "id": "-NcFf-qI7Fdj",
        "outputId": "4734b4b0-d811-4e99-a4d8-59b8fc8f039f"
      },
      "execution_count": 4,
      "outputs": [
        {
          "output_type": "stream",
          "name": "stdout",
          "text": [
            "A média é: 20.0\n"
          ]
        }
      ]
    },
    {
      "cell_type": "code",
      "source": [
        "# =========================\n",
        "# 🔵 Q4 – Converter velocidade de km/h para m/s\n",
        "# =========================\n",
        "\n",
        "# Armazenando a velocidade em km/h\n",
        "velocidade_kmh = 90\n",
        "\n",
        "# Convertendo para m/s\n",
        "velocidade_ms = velocidade_kmh / 3.6\n",
        "\n",
        "# Imprimindo o resultado\n",
        "print(\"Velocidade em m/s:\", velocidade_ms)\n",
        "\n",
        "# -------------------------\n",
        "# Saída esperada:\n",
        "# Velocidade em m/s: 25.0\n",
        "# -------------------------\n"
      ],
      "metadata": {
        "colab": {
          "base_uri": "https://localhost:8080/"
        },
        "id": "shv3kmMB7O7z",
        "outputId": "9a8e7beb-a2e4-42c6-b773-1d69b4f00497"
      },
      "execution_count": 5,
      "outputs": [
        {
          "output_type": "stream",
          "name": "stdout",
          "text": [
            "Velocidade em m/s: 25.0\n"
          ]
        }
      ]
    },
    {
      "cell_type": "code",
      "source": [
        "# =========================\n",
        "# 🔴 Q5 – Armazenar e imprimir nome\n",
        "# =========================\n",
        "\n",
        "# Armazenando o nome em uma variável\n",
        "meu_nome = \"Acácio\"\n",
        "\n",
        "# Imprimindo na tela\n",
        "print(\"Meu nome é:\")\n",
        "print(meu_nome)\n",
        "\n",
        "# -------------------------\n",
        "# Saída esperada:\n",
        "# Meu nome é:\n",
        "# Acácio\n",
        "# -------------------------\n"
      ],
      "metadata": {
        "colab": {
          "base_uri": "https://localhost:8080/"
        },
        "id": "-fSfwV_G7l04",
        "outputId": "304475c0-1f3a-4ed7-a346-8a017a7a4a5e"
      },
      "execution_count": 6,
      "outputs": [
        {
          "output_type": "stream",
          "name": "stdout",
          "text": [
            "Meu nome é:\n",
            "Acácio\n"
          ]
        }
      ]
    }
  ]
}