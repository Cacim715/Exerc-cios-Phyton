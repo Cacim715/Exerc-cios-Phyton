{
  "nbformat": 4,
  "nbformat_minor": 0,
  "metadata": {
    "colab": {
      "provenance": []
    },
    "kernelspec": {
      "name": "python3",
      "display_name": "Python 3"
    },
    "language_info": {
      "name": "python"
    }
  },
  "cells": [
    {
      "cell_type": "code",
      "execution_count": 1,
      "metadata": {
        "colab": {
          "base_uri": "https://localhost:8080/"
        },
        "id": "IYZ6wL11ueQk",
        "outputId": "45874efc-8f12-40fb-9eac-8103d98284ff"
      },
      "outputs": [
        {
          "output_type": "stream",
          "name": "stdout",
          "text": [
            "10\n",
            "9\n",
            "8\n",
            "7\n",
            "6\n",
            "5\n",
            "4\n",
            "3\n",
            "2\n",
            "1\n"
          ]
        }
      ],
      "source": [
        "# aula2_questao1.py\n",
        "for i in range(10, 0, -1):\n",
        "    print(i)\n"
      ]
    },
    {
      "cell_type": "code",
      "source": [
        "# aula2_questao2.py\n",
        "n = int(input(\"Digite um número: \"))\n",
        "soma = 0\n",
        "\n",
        "for i in range(1, n + 1):\n",
        "    soma += i\n",
        "\n",
        "print(f\"A soma dos números de 1 a {n} é {soma}\")\n"
      ],
      "metadata": {
        "colab": {
          "base_uri": "https://localhost:8080/"
        },
        "id": "02HIw9XmulqV",
        "outputId": "a6cb983c-5505-4d7b-f68d-2e80dabd8d71"
      },
      "execution_count": 2,
      "outputs": [
        {
          "output_type": "stream",
          "name": "stdout",
          "text": [
            "Digite um número: 9\n",
            "A soma dos números de 1 a 9 é 45\n"
          ]
        }
      ]
    },
    {
      "cell_type": "code",
      "source": [
        "# aula2_questao3.py\n",
        "print(\"Digite 10 números positivos, um por linha:\") # Added instruction to input numbers on separate lines\n",
        "soma = 0\n",
        "\n",
        "for i in range(10):\n",
        "    valor = int(input())\n",
        "    soma += valor\n",
        "\n",
        "media = soma / 10\n",
        "print(f\"A média dos valores digitados é {media:.2f}\")]"
      ],
      "metadata": {
        "colab": {
          "base_uri": "https://localhost:8080/"
        },
        "id": "1wkGVKDIutYV",
        "outputId": "c5e21f69-b735-4d27-f1b7-8d002dd62893"
      },
      "execution_count": 5,
      "outputs": [
        {
          "output_type": "stream",
          "name": "stdout",
          "text": [
            "Digite 10 números positivos, um por linha:\n",
            "1\n",
            "2\n",
            "3\n",
            "4\n",
            "5\n",
            "6\n",
            "7\n",
            "8\n",
            "9\n",
            "10\n",
            "A média dos valores digitados é 5.50\n"
          ]
        }
      ]
    },
    {
      "cell_type": "code",
      "source": [
        "# aula2_questao4.py\n",
        "n = int(input())  # quantidade de jogos\n",
        "vitorias = empates = derrotas = 0\n",
        "\n",
        "for i in range(n):\n",
        "    gols_galo = int(input())\n",
        "    gols_adv = int(input())\n",
        "\n",
        "    if gols_galo > gols_adv:\n",
        "        vitorias += 1\n",
        "    elif gols_galo == gols_adv:\n",
        "        empates += 1\n",
        "    else:\n",
        "        derrotas += 1\n",
        "\n",
        "pontos = vitorias * 3 + empates * 1\n",
        "\n",
        "print(f\"Vitórias: {vitorias}\")\n",
        "print(f\"Empates: {empates}\")\n",
        "print(f\"Derrotas: {derrotas}\")\n",
        "print(f\"Pontuação: {pontos}\")\n"
      ],
      "metadata": {
        "colab": {
          "base_uri": "https://localhost:8080/",
          "height": 425
        },
        "id": "0Mp05XlMvaL_",
        "outputId": "f2a65fd3-c648-413f-8797-4622506e5efd"
      },
      "execution_count": 7,
      "outputs": [
        {
          "name": "stdout",
          "output_type": "stream",
          "text": [
            "9\n",
            "5\n",
            "7\n",
            "5\n"
          ]
        },
        {
          "output_type": "error",
          "ename": "KeyboardInterrupt",
          "evalue": "Interrupted by user",
          "traceback": [
            "\u001b[0;31m---------------------------------------------------------------------------\u001b[0m",
            "\u001b[0;31mKeyboardInterrupt\u001b[0m                         Traceback (most recent call last)",
            "\u001b[0;32m/tmp/ipython-input-1292432753.py\u001b[0m in \u001b[0;36m<cell line: 0>\u001b[0;34m()\u001b[0m\n\u001b[1;32m      5\u001b[0m \u001b[0;32mfor\u001b[0m \u001b[0mi\u001b[0m \u001b[0;32min\u001b[0m \u001b[0mrange\u001b[0m\u001b[0;34m(\u001b[0m\u001b[0mn\u001b[0m\u001b[0;34m)\u001b[0m\u001b[0;34m:\u001b[0m\u001b[0;34m\u001b[0m\u001b[0;34m\u001b[0m\u001b[0m\n\u001b[1;32m      6\u001b[0m     \u001b[0mgols_galo\u001b[0m \u001b[0;34m=\u001b[0m \u001b[0mint\u001b[0m\u001b[0;34m(\u001b[0m\u001b[0minput\u001b[0m\u001b[0;34m(\u001b[0m\u001b[0;34m)\u001b[0m\u001b[0;34m)\u001b[0m\u001b[0;34m\u001b[0m\u001b[0;34m\u001b[0m\u001b[0m\n\u001b[0;32m----> 7\u001b[0;31m     \u001b[0mgols_adv\u001b[0m \u001b[0;34m=\u001b[0m \u001b[0mint\u001b[0m\u001b[0;34m(\u001b[0m\u001b[0minput\u001b[0m\u001b[0;34m(\u001b[0m\u001b[0;34m)\u001b[0m\u001b[0;34m)\u001b[0m\u001b[0;34m\u001b[0m\u001b[0;34m\u001b[0m\u001b[0m\n\u001b[0m\u001b[1;32m      8\u001b[0m \u001b[0;34m\u001b[0m\u001b[0m\n\u001b[1;32m      9\u001b[0m     \u001b[0;32mif\u001b[0m \u001b[0mgols_galo\u001b[0m \u001b[0;34m>\u001b[0m \u001b[0mgols_adv\u001b[0m\u001b[0;34m:\u001b[0m\u001b[0;34m\u001b[0m\u001b[0;34m\u001b[0m\u001b[0m\n",
            "\u001b[0;32m/usr/local/lib/python3.12/dist-packages/ipykernel/kernelbase.py\u001b[0m in \u001b[0;36mraw_input\u001b[0;34m(self, prompt)\u001b[0m\n\u001b[1;32m   1175\u001b[0m                 \u001b[0;34m\"raw_input was called, but this frontend does not support input requests.\"\u001b[0m\u001b[0;34m\u001b[0m\u001b[0;34m\u001b[0m\u001b[0m\n\u001b[1;32m   1176\u001b[0m             )\n\u001b[0;32m-> 1177\u001b[0;31m         return self._input_request(\n\u001b[0m\u001b[1;32m   1178\u001b[0m             \u001b[0mstr\u001b[0m\u001b[0;34m(\u001b[0m\u001b[0mprompt\u001b[0m\u001b[0;34m)\u001b[0m\u001b[0;34m,\u001b[0m\u001b[0;34m\u001b[0m\u001b[0;34m\u001b[0m\u001b[0m\n\u001b[1;32m   1179\u001b[0m             \u001b[0mself\u001b[0m\u001b[0;34m.\u001b[0m\u001b[0m_parent_ident\u001b[0m\u001b[0;34m[\u001b[0m\u001b[0;34m\"shell\"\u001b[0m\u001b[0;34m]\u001b[0m\u001b[0;34m,\u001b[0m\u001b[0;34m\u001b[0m\u001b[0;34m\u001b[0m\u001b[0m\n",
            "\u001b[0;32m/usr/local/lib/python3.12/dist-packages/ipykernel/kernelbase.py\u001b[0m in \u001b[0;36m_input_request\u001b[0;34m(self, prompt, ident, parent, password)\u001b[0m\n\u001b[1;32m   1217\u001b[0m             \u001b[0;32mexcept\u001b[0m \u001b[0mKeyboardInterrupt\u001b[0m\u001b[0;34m:\u001b[0m\u001b[0;34m\u001b[0m\u001b[0;34m\u001b[0m\u001b[0m\n\u001b[1;32m   1218\u001b[0m                 \u001b[0;31m# re-raise KeyboardInterrupt, to truncate traceback\u001b[0m\u001b[0;34m\u001b[0m\u001b[0;34m\u001b[0m\u001b[0m\n\u001b[0;32m-> 1219\u001b[0;31m                 \u001b[0;32mraise\u001b[0m \u001b[0mKeyboardInterrupt\u001b[0m\u001b[0;34m(\u001b[0m\u001b[0;34m\"Interrupted by user\"\u001b[0m\u001b[0;34m)\u001b[0m \u001b[0;32mfrom\u001b[0m \u001b[0;32mNone\u001b[0m\u001b[0;34m\u001b[0m\u001b[0;34m\u001b[0m\u001b[0m\n\u001b[0m\u001b[1;32m   1220\u001b[0m             \u001b[0;32mexcept\u001b[0m \u001b[0mException\u001b[0m\u001b[0;34m:\u001b[0m\u001b[0;34m\u001b[0m\u001b[0;34m\u001b[0m\u001b[0m\n\u001b[1;32m   1221\u001b[0m                 \u001b[0mself\u001b[0m\u001b[0;34m.\u001b[0m\u001b[0mlog\u001b[0m\u001b[0;34m.\u001b[0m\u001b[0mwarning\u001b[0m\u001b[0;34m(\u001b[0m\u001b[0;34m\"Invalid Message:\"\u001b[0m\u001b[0;34m,\u001b[0m \u001b[0mexc_info\u001b[0m\u001b[0;34m=\u001b[0m\u001b[0;32mTrue\u001b[0m\u001b[0;34m)\u001b[0m\u001b[0;34m\u001b[0m\u001b[0;34m\u001b[0m\u001b[0m\n",
            "\u001b[0;31mKeyboardInterrupt\u001b[0m: Interrupted by user"
          ]
        }
      ]
    },
    {
      "cell_type": "code",
      "source": [
        "# aula2_questao5.py\n",
        "n = int(input())  # linhas\n",
        "m = int(input())  # colunas\n",
        "\n",
        "# Cabeçalho\n",
        "print(\" \", end=\" \")\n",
        "for j in range(1, m + 1):\n",
        "    print(j, end=\" \")\n",
        "print()\n",
        "\n",
        "# Linhas\n",
        "for i in range(1, n + 1):\n",
        "    print(i, end=\" \")\n",
        "    for j in range(m):\n",
        "        print(\"/\", end=\" \")\n",
        "    print()\n"
      ],
      "metadata": {
        "colab": {
          "base_uri": "https://localhost:8080/"
        },
        "id": "F-vRkk72vlYs",
        "outputId": "41d4937e-54ac-48df-f9d2-8756143a4909"
      },
      "execution_count": 8,
      "outputs": [
        {
          "output_type": "stream",
          "name": "stdout",
          "text": [
            "5\n",
            "9\n",
            "  1 2 3 4 5 6 7 8 9 \n",
            "1 / / / / / / / / / \n",
            "2 / / / / / / / / / \n",
            "3 / / / / / / / / / \n",
            "4 / / / / / / / / / \n",
            "5 / / / / / / / / / \n"
          ]
        }
      ]
    },
    {
      "cell_type": "code",
      "source": [
        "# aula2_questao6.py\n",
        "maior = None\n",
        "menor = None\n",
        "\n",
        "while True:\n",
        "    valor = int(input())\n",
        "    if valor == 0:\n",
        "        break\n",
        "    if maior is None or valor > maior:\n",
        "        maior = valor\n",
        "    if menor is None or valor < menor:\n",
        "        menor = valor\n",
        "\n",
        "print(f\"Maior: {maior}\")\n",
        "print(f\"Menor: {menor}\")\n"
      ],
      "metadata": {
        "colab": {
          "base_uri": "https://localhost:8080/"
        },
        "id": "RG_NLqbMv2m_",
        "outputId": "6a45d983-598f-4195-8b16-714b9846d194"
      },
      "execution_count": 9,
      "outputs": [
        {
          "output_type": "stream",
          "name": "stdout",
          "text": [
            "0\n",
            "Maior: None\n",
            "Menor: None\n"
          ]
        }
      ]
    },
    {
      "cell_type": "code",
      "source": [
        "# aula2_questao7.py\n",
        "produto = 1\n",
        "tem_positivo = False\n",
        "\n",
        "while True:\n",
        "    valor = int(input())\n",
        "    if valor == 0:\n",
        "        break\n",
        "    if valor > 0:\n",
        "        produto *= valor\n",
        "        tem_positivo = True\n",
        "\n",
        "if tem_positivo:\n",
        "    print(f\"Produto: {produto}\")\n",
        "else:\n",
        "    print(\"Nenhum valor positivo digitado\")\n"
      ],
      "metadata": {
        "colab": {
          "base_uri": "https://localhost:8080/"
        },
        "id": "4zUJhwCowDMM",
        "outputId": "707a80ac-95f3-4fb5-99e2-56e17ce546c5"
      },
      "execution_count": 10,
      "outputs": [
        {
          "output_type": "stream",
          "name": "stdout",
          "text": [
            "1\n",
            "0\n",
            "Produto: 1\n"
          ]
        }
      ]
    },
    {
      "cell_type": "code",
      "source": [
        "# aula2_questao8.py\n",
        "resultado = int(input())\n",
        "while True:\n",
        "    op = input()\n",
        "    if op == \"Fim\":\n",
        "        break\n",
        "    num = int(input())\n",
        "    if op == \"+\":\n",
        "        resultado += num\n",
        "    elif op == \"-\":\n",
        "        resultado -= num\n",
        "\n",
        "print(resultado)\n"
      ],
      "metadata": {
        "colab": {
          "base_uri": "https://localhost:8080/"
        },
        "id": "fstEpD1-wq0W",
        "outputId": "2614f9fb-be37-4f65-c687-d074a1908086"
      },
      "execution_count": null,
      "outputs": [
        {
          "name": "stdout",
          "output_type": "stream",
          "text": [
            "9\n",
            "7\n"
          ]
        }
      ]
    }
  ]
}