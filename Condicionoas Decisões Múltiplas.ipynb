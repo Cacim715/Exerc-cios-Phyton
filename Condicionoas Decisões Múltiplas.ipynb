{
  "nbformat": 4,
  "nbformat_minor": 0,
  "metadata": {
    "colab": {
      "provenance": []
    },
    "kernelspec": {
      "name": "python3",
      "display_name": "Python 3"
    },
    "language_info": {
      "name": "python"
    }
  },
  "cells": [
    {
      "cell_type": "code",
      "source": [
        "# aula3_questao1.py\n",
        "\n",
        "# Entrada\n",
        "op1 = float(input(\"Digite o primeiro operando: \"))\n",
        "operador = input(\"Digite o operador (+, -, /, *, **): \")\n",
        "op2 = float(input(\"Digite o segundo operando: \"))\n",
        "\n",
        "# Processamento e Saída\n",
        "if operador == \"+\":\n",
        "    resultado = op1 + op2\n",
        "    print(f\"Resultado: {op1} + {op2} = {resultado}\")\n",
        "elif operador == \"-\":\n",
        "    resultado = op1 - op2\n",
        "    print(f\"Resultado: {op1} - {op2} = {resultado}\")\n",
        "elif operador == \"*\":\n",
        "    resultado = op1 * op2\n",
        "    print(f\"Resultado: {op1} * {op2} = {resultado}\")\n",
        "elif operador == \"/\":\n",
        "    if op2 == 0:\n",
        "        print(\"Erro! Divisão por zero.\")\n",
        "    else:\n",
        "        resultado = op1 / op2\n",
        "        print(f\"Resultado: {op1} / {op2} = {resultado}\")\n",
        "elif operador == \"**\":\n",
        "    resultado = op1 ** op2\n",
        "    print(f\"Resultado: {op1} ** {op2} = {resultado}\")\n",
        "else:\n",
        "    print(\"Erro! Operação inválida.\")\n"
      ],
      "metadata": {
        "colab": {
          "base_uri": "https://localhost:8080/"
        },
        "id": "tBuuTEBzoqlT",
        "outputId": "6e24df99-dbb2-4770-fc74-8e930738be65"
      },
      "execution_count": 1,
      "outputs": [
        {
          "output_type": "stream",
          "name": "stdout",
          "text": [
            "Digite o primeiro operando: 23\n",
            "Digite o operador (+, -, /, *, **): +\n",
            "Digite o segundo operando: 34\n",
            "Resultado: 23.0 + 34.0 = 57.0\n"
          ]
        }
      ]
    },
    {
      "cell_type": "code",
      "source": [
        "# aula3_questao2.py\n",
        "\n",
        "# Entrada\n",
        "lado1 = float(input(\"Digite o comprimento do lado 1: \"))\n",
        "lado2 = float(input(\"Digite o comprimento do lado 2: \"))\n",
        "lado3 = float(input(\"Digite o comprimento do lado 3: \"))\n",
        "\n",
        "# Processamento\n",
        "if lado1 == lado2 == lado3:\n",
        "    print(\"Triângulo: Equilátero\")\n",
        "elif lado1 == lado2 or lado1 == lado3 or lado2 == lado3:\n",
        "    print(\"Triângulo: Isóceles\")\n",
        "else:\n",
        "    print(\"Triângulo: Escaleno\")\n"
      ],
      "metadata": {
        "colab": {
          "base_uri": "https://localhost:8080/"
        },
        "id": "eQYOvGWdo1Td",
        "outputId": "8a761ee6-8f8d-4c7e-dad4-5d7ac2b173e8"
      },
      "execution_count": 2,
      "outputs": [
        {
          "output_type": "stream",
          "name": "stdout",
          "text": [
            "Digite o comprimento do lado 1: 56\n",
            "Digite o comprimento do lado 2: 45\n",
            "Digite o comprimento do lado 3: 23\n",
            "Triângulo: Escaleno\n"
          ]
        }
      ]
    },
    {
      "cell_type": "code",
      "source": [
        "# aula3_questao3.py\n",
        "\n",
        "# Entrada\n",
        "pontuacao = int(input(\"Digite a pontuação: \"))\n",
        "\n",
        "# Processamento e Saída\n",
        "if pontuacao >= 90:\n",
        "    print(\"Classificação: Excelente\")\n",
        "elif pontuacao >= 80:\n",
        "    print(\"Classificação: Bom\")\n",
        "elif pontuacao >= 70:\n",
        "    print(\"Classificação: Regular\")\n",
        "else:\n",
        "    print(\"Classificação: Insatisfatório\")\n"
      ],
      "metadata": {
        "colab": {
          "base_uri": "https://localhost:8080/"
        },
        "id": "6GquEB5ZpCTd",
        "outputId": "039f1a92-1b44-46f2-ece2-dc878189bf78"
      },
      "execution_count": 3,
      "outputs": [
        {
          "output_type": "stream",
          "name": "stdout",
          "text": [
            "Digite a pontuação: 90\n",
            "Classificação: Excelente\n"
          ]
        }
      ]
    },
    {
      "cell_type": "code",
      "source": [
        "# aula3_questao4.py\n",
        "\n",
        "# Entrada\n",
        "valor = float(input(\"Digite o valor total da compra: \"))\n",
        "\n",
        "# Processamento\n",
        "if valor >= 100:\n",
        "    desconto = 0.20\n",
        "elif valor >= 50:\n",
        "    desconto = 0.10\n",
        "else:\n",
        "    desconto = 0.0\n",
        "\n",
        "valor_final = valor * (1 - desconto)\n",
        "\n",
        "# Saída\n",
        "print(f\"Desconto aplicado: {desconto*100:.1f}%\")\n",
        "print(f\"Valor final com desconto: R${valor_final:.2f}\")\n"
      ],
      "metadata": {
        "colab": {
          "base_uri": "https://localhost:8080/"
        },
        "id": "y511lZKcpKeZ",
        "outputId": "368b1b48-e75c-46f0-d996-5a5d8ac6e8aa"
      },
      "execution_count": 4,
      "outputs": [
        {
          "output_type": "stream",
          "name": "stdout",
          "text": [
            "Digite o valor total da compra: 300\n",
            "Desconto aplicado: 20.0%\n",
            "Valor final com desconto: R$240.00\n"
          ]
        }
      ]
    },
    {
      "cell_type": "code",
      "source": [
        "# aula3_questao5.py\n",
        "\n",
        "# Banco de dados fictício\n",
        "usuarios = {\n",
        "    \"admin\": (\"admin123\", \"Administrador\"),\n",
        "    \"usuario1\": (\"senha123\", \"Usuário Comum\"),\n",
        "    \"visitante1\": (\"guest2024\", \"Visitante\")\n",
        "}\n",
        "\n",
        "while True:\n",
        "    print(\"\\n--- Sistema de Login ---\")\n",
        "    usuario = input(\"Usuário (ou 'sair' para encerrar): \")\n",
        "    if usuario.lower() == \"sair\":\n",
        "        print(\"Encerrando o sistema...\")\n",
        "        break\n",
        "\n",
        "    senha = input(\"Senha: \")\n",
        "\n",
        "    if usuario in usuarios and usuarios[usuario][0] == senha:\n",
        "        print(f\"Login bem-sucedido! Nível de acesso: {usuarios[usuario][1]}\")\n",
        "    else:\n",
        "        print(\"Erro: Usuário ou senha inválidos.\")\n"
      ],
      "metadata": {
        "colab": {
          "base_uri": "https://localhost:8080/"
        },
        "id": "Kc_fyD-BpVs5",
        "outputId": "4daa9b3a-0cea-4065-e294-3aab5f42ca9c"
      },
      "execution_count": 5,
      "outputs": [
        {
          "output_type": "stream",
          "name": "stdout",
          "text": [
            "\n",
            "--- Sistema de Login ---\n",
            "Usuário (ou 'sair' para encerrar): sair\n",
            "Encerrando o sistema...\n"
          ]
        }
      ]
    }
  ]
}