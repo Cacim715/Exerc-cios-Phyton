{
  "nbformat": 4,
  "nbformat_minor": 0,
  "metadata": {
    "colab": {
      "provenance": []
    },
    "kernelspec": {
      "name": "python3",
      "display_name": "Python 3"
    },
    "language_info": {
      "name": "python"
    }
  },
  "cells": [
    {
      "cell_type": "code",
      "execution_count": 1,
      "metadata": {
        "colab": {
          "base_uri": "https://localhost:8080/"
        },
        "id": "OodCt8Qa__4F",
        "outputId": "f64bf0d2-b863-4f6b-f325-6c8d24c0bc5a"
      },
      "outputs": [
        {
          "output_type": "stream",
          "name": "stdout",
          "text": [
            "Salário bruto: R$ 800\n",
            "Desconto INSS (10%): R$ 80.0\n",
            "Desconto sindicato (5%): R$ 40.0\n",
            "Salário líquido: R$ 680.0\n"
          ]
        }
      ],
      "source": [
        "# Dados do trabalhador\n",
        "salario_hora = 20      # reais por hora\n",
        "horas_semana = 40      # horas trabalhadas por semana\n",
        "\n",
        "# Cálculos\n",
        "salario_bruto = salario_hora * horas_semana\n",
        "desconto_inss = salario_bruto * 0.10\n",
        "desconto_sindicato = salario_bruto * 0.05\n",
        "salario_liquido = salario_bruto - desconto_inss - desconto_sindicato\n",
        "\n",
        "# Impressão dos resultados\n",
        "print(\"Salário bruto: R$\", salario_bruto)\n",
        "print(\"Desconto INSS (10%): R$\", desconto_inss)\n",
        "print(\"Desconto sindicato (5%): R$\", desconto_sindicato)\n",
        "print(\"Salário líquido: R$\", salario_liquido)\n"
      ]
    },
    {
      "cell_type": "code",
      "source": [
        "# Cálculo do salário bruto\n",
        "salario_bruto = 20 * 40\n",
        "\n",
        "# Cálculo do salário líquido com todos os descontos em uma expressão\n",
        "salario_liquido = salario_bruto - (salario_bruto * 0.10) - (salario_bruto * 0.05)\n",
        "\n",
        "# Impressão\n",
        "print(\"Salário bruto: R$\", salario_bruto)\n",
        "print(\"Salário líquido: R$\", salario_liquido)\n"
      ],
      "metadata": {
        "colab": {
          "base_uri": "https://localhost:8080/"
        },
        "id": "lfKNjPDdAVqc",
        "outputId": "c21a2531-d86a-4dc0-e6ef-b0e7235b12c8"
      },
      "execution_count": 2,
      "outputs": [
        {
          "output_type": "stream",
          "name": "stdout",
          "text": [
            "Salário bruto: R$ 800\n",
            "Salário líquido: R$ 680.0\n"
          ]
        }
      ]
    },
    {
      "cell_type": "code",
      "source": [
        "# Valor em reais\n",
        "valor_brl = 100  # exemplo: 100 reais\n",
        "\n",
        "# Taxa de câmbio: 0.69 BRL = 1 CNY\n",
        "valor_cny = valor_brl / 0.69\n",
        "\n",
        "# Impressão\n",
        "print(\"Valor em yuan chinês (CNY):\", valor_cny)\n"
      ],
      "metadata": {
        "colab": {
          "base_uri": "https://localhost:8080/"
        },
        "id": "SsG7vAxUA_sG",
        "outputId": "f7327662-6dd7-44af-f93a-5558234a194d"
      },
      "execution_count": 3,
      "outputs": [
        {
          "output_type": "stream",
          "name": "stdout",
          "text": [
            "Valor em yuan chinês (CNY): 144.92753623188406\n"
          ]
        }
      ]
    },
    {
      "cell_type": "code",
      "source": [
        "# Distância da maratona em km\n",
        "distancia_km = 42.195\n",
        "\n",
        "# Tempo total em horas\n",
        "tempo_horas = 3\n",
        "\n",
        "# Conversão: km → metros, horas → segundos\n",
        "distancia_m = distancia_km * 1000\n",
        "tempo_s = tempo_horas * 3600\n",
        "\n",
        "# Velocidade média em m/s\n",
        "velocidade_media = distancia_m / tempo_s\n",
        "\n",
        "# Impressão\n",
        "print(\"Velocidade média necessária (m/s):\", velocidade_media)\n"
      ],
      "metadata": {
        "colab": {
          "base_uri": "https://localhost:8080/"
        },
        "id": "Uq9u0iVWBUql",
        "outputId": "41f0b6ab-22c6-410d-c498-4ab0b2abda1f"
      },
      "execution_count": 4,
      "outputs": [
        {
          "output_type": "stream",
          "name": "stdout",
          "text": [
            "Velocidade média necessária (m/s): 3.9069444444444446\n"
          ]
        }
      ]
    },
    {
      "cell_type": "code",
      "source": [
        "# Distância da maratona em km\n",
        "distancia_km = 42.195\n",
        "\n",
        "# Tempo total em horas\n",
        "tempo_horas = 3\n",
        "\n",
        "# Conversão: km → metros, horas → segundos\n",
        "distancia_m = distancia_km * 1000\n",
        "tempo_s = tempo_horas * 3600\n",
        "\n",
        "# Velocidade média em m/s\n",
        "velocidade_media = distancia_m / tempo_s\n",
        "\n",
        "# Impressão\n",
        "print(\"Velocidade média necessária (m/s):\", velocidade_media)\n"
      ],
      "metadata": {
        "colab": {
          "base_uri": "https://localhost:8080/"
        },
        "id": "HNA8EJdlBfv8",
        "outputId": "adcc60fd-5701-4f71-ac94-b7a6fc268cbb"
      },
      "execution_count": 5,
      "outputs": [
        {
          "output_type": "stream",
          "name": "stdout",
          "text": [
            "Velocidade média necessária (m/s): 3.9069444444444446\n"
          ]
        }
      ]
    }
  ]
}