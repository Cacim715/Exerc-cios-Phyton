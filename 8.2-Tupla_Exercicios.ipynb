{
 "cells": [
  {
   "cell_type": "markdown",
   "id": "c6bee220",
   "metadata": {},
   "source": [
    "# Aula 8.2 - Tupla - Exercícios"
   ]
  },
  {
   "cell_type": "code",
   "execution_count": null,
   "id": "46e88c27",
   "metadata": {},
   "outputs": [],
   "source": [
    "tupla_numeros = (10, 20, 30, 40, 50)\n",
    "print(tupla_numeros)"
   ]
  },
  {
   "cell_type": "code",
   "execution_count": null,
   "id": "15c9a6d8",
   "metadata": {},
   "outputs": [],
   "source": [
    "print(\"Terceiro elemento:\", tupla_numeros[2])"
   ]
  },
  {
   "cell_type": "code",
   "execution_count": null,
   "id": "3984550a",
   "metadata": {},
   "outputs": [],
   "source": [
    "print(\"Tamanho da tupla:\", len(tupla_numeros))"
   ]
  },
  {
   "cell_type": "code",
   "execution_count": null,
   "id": "34e84ac2",
   "metadata": {},
   "outputs": [],
   "source": [
    "tupla1 = (1, 2, 3)\n",
    "tupla2 = (4, 5, 6)\n",
    "tupla_concatenada = tupla1 + tupla2\n",
    "print(\"Tupla concatenada:\", tupla_concatenada)"
   ]
  },
  {
   "cell_type": "code",
   "execution_count": null,
   "id": "4d16f105",
   "metadata": {},
   "outputs": [],
   "source": [
    "tupla_repetida = tupla1 * 2\n",
    "print(\"Tupla repetida:\", tupla_repetida)"
   ]
  },
  {
   "cell_type": "code",
   "execution_count": null,
   "id": "71efbd74",
   "metadata": {},
   "outputs": [],
   "source": [
    "print(3 in tupla1)   # True\n",
    "print(7 in tupla1)   # False"
   ]
  },
  {
   "cell_type": "code",
   "execution_count": null,
   "id": "6ccb665d",
   "metadata": {},
   "outputs": [],
   "source": [
    "tupla_repetida = (1, 2, 2, 3, 2, 4, 2)\n",
    "print(\"Quantidade de vezes que o 2 aparece:\", tupla_repetida.count(2))"
   ]
  },
  {
   "cell_type": "code",
   "execution_count": null,
   "id": "e2623a74",
   "metadata": {},
   "outputs": [],
   "source": [
    "print(\"Posição do número 3:\", tupla_repetida.index(3))"
   ]
  },
  {
   "cell_type": "code",
   "execution_count": null,
   "id": "dde01a4f",
   "metadata": {},
   "outputs": [],
   "source": [
    "tupla_mista = (\"Python\", 3.14, True, 100)\n",
    "print(tupla_mista)"
   ]
  },
  {
   "cell_type": "code",
   "execution_count": null,
   "id": "1a32b295",
   "metadata": {},
   "outputs": [],
   "source": [
    "lista = [1, 2, 3, 4]\n",
    "tupla_convertida = tuple(lista)\n",
    "print(\"Lista convertida em tupla:\", tupla_convertida)"
   ]
  }
 ],
 "metadata": {},
 "nbformat": 4,
 "nbformat_minor": 5
}