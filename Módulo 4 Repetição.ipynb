{
  "nbformat": 4,
  "nbformat_minor": 0,
  "metadata": {
    "colab": {
      "provenance": []
    },
    "kernelspec": {
      "name": "python3",
      "display_name": "Python 3"
    },
    "language_info": {
      "name": "python"
    }
  },
  "cells": [
    {
      "cell_type": "code",
      "execution_count": 1,
      "metadata": {
        "colab": {
          "base_uri": "https://localhost:8080/"
        },
        "id": "Lk5gyDU_rK3F",
        "outputId": "cfccff0e-6c72-46ab-afe3-710617e41340"
      },
      "outputs": [
        {
          "output_type": "stream",
          "name": "stdout",
          "text": [
            "1\n",
            "2\n",
            "3\n",
            "4\n",
            "5\n",
            "6\n",
            "7\n",
            "8\n",
            "9\n",
            "10\n"
          ]
        }
      ],
      "source": [
        "# aula1_questao1.py\n",
        "\n",
        "contador = 1\n",
        "\n",
        "while contador <= 10:\n",
        "    print(contador)\n",
        "    contador += 1\n"
      ]
    },
    {
      "cell_type": "code",
      "source": [
        "# aula1_questao2.py\n",
        "\n",
        "soma = 0\n",
        "numero = int(input(\"Digite um número (0 para parar): \"))\n",
        "\n",
        "while numero != 0:\n",
        "    soma += numero\n",
        "    numero = int(input(\"Digite um número (0 para parar): \"))\n",
        "\n",
        "print(\"Soma total =\", soma)\n"
      ],
      "metadata": {
        "colab": {
          "base_uri": "https://localhost:8080/"
        },
        "id": "J81xGnP5rSj6",
        "outputId": "778a8a42-f007-449a-b758-89adab9e8bce"
      },
      "execution_count": 2,
      "outputs": [
        {
          "output_type": "stream",
          "name": "stdout",
          "text": [
            "Digite um número (0 para parar): 7\n",
            "Digite um número (0 para parar): 0\n",
            "Soma total = 7\n"
          ]
        }
      ]
    },
    {
      "cell_type": "code",
      "source": [
        "# aula1_questao3.py\n",
        "\n",
        "senha_correta = \"1234\"\n",
        "senha = input(\"Digite a senha: \")\n",
        "\n",
        "while senha != senha_correta:\n",
        "    print(\"Senha incorreta, tente novamente.\")\n",
        "    senha = input(\"Digite a senha: \")\n",
        "\n",
        "print(\"Acesso liberado!\")\n"
      ],
      "metadata": {
        "colab": {
          "base_uri": "https://localhost:8080/"
        },
        "id": "PLiayZ0Xrer7",
        "outputId": "35a576f0-40d8-4909-8ad8-598f900873d6"
      },
      "execution_count": 3,
      "outputs": [
        {
          "output_type": "stream",
          "name": "stdout",
          "text": [
            "Digite a senha: 1234\n",
            "Acesso liberado!\n"
          ]
        }
      ]
    },
    {
      "cell_type": "code",
      "source": [
        "# aula1_questao4.py\n",
        "\n",
        "n = int(input(\"Digite um número para ver a tabuada: \"))\n",
        "i = 1\n",
        "\n",
        "while i <= 10:\n",
        "    print(f\"{n} x {i} = {n * i}\")\n",
        "    i += 1\n"
      ],
      "metadata": {
        "colab": {
          "base_uri": "https://localhost:8080/"
        },
        "id": "nSvvT8_mrmZX",
        "outputId": "a7f4b668-22b6-455f-ebfc-c22da3e1d705"
      },
      "execution_count": 4,
      "outputs": [
        {
          "output_type": "stream",
          "name": "stdout",
          "text": [
            "Digite um número para ver a tabuada: 5\n",
            "5 x 1 = 5\n",
            "5 x 2 = 10\n",
            "5 x 3 = 15\n",
            "5 x 4 = 20\n",
            "5 x 5 = 25\n",
            "5 x 6 = 30\n",
            "5 x 7 = 35\n",
            "5 x 8 = 40\n",
            "5 x 9 = 45\n",
            "5 x 10 = 50\n"
          ]
        }
      ]
    },
    {
      "cell_type": "code",
      "source": [
        "# aula1_questao5.py\n",
        "\n",
        "N = int(input(\"Digite a quantidade de respondentes: \"))\n",
        "soma = 0\n",
        "contador = 0\n",
        "\n",
        "while contador < N:\n",
        "    idade = int(input(f\"Digite a idade do respondente {contador+1}: \"))\n",
        "    soma += idade\n",
        "    contador += 1\n",
        "\n",
        "media = soma / N\n",
        "print(f\"Média das idades: {media:.2f}\")\n"
      ],
      "metadata": {
        "colab": {
          "base_uri": "https://localhost:8080/"
        },
        "id": "dyhdbtqzrvMq",
        "outputId": "d0e8b3bb-eed6-49cc-e5e0-3ac65874decf"
      },
      "execution_count": 5,
      "outputs": [
        {
          "output_type": "stream",
          "name": "stdout",
          "text": [
            "Digite a quantidade de respondentes: 5\n",
            "Digite a idade do respondente 1: 9\n",
            "Digite a idade do respondente 2: 7\n",
            "Digite a idade do respondente 3: 28\n",
            "Digite a idade do respondente 4: 16\n",
            "Digite a idade do respondente 5: 22\n",
            "Média das idades: 16.40\n"
          ]
        }
      ]
    },
    {
      "cell_type": "code",
      "source": [
        "# aula1_questao6.py\n",
        "\n",
        "N = int(input(\"Digite a quantidade de experimentos: \"))\n",
        "\n",
        "total = 0\n",
        "coelhos = 0\n",
        "ratos = 0\n",
        "sapos = 0\n",
        "\n",
        "contador = 0\n",
        "while contador < N:\n",
        "    entrada = input(\"Digite a quantidade e o tipo de cobaia (ex: '10 C'): \")\n",
        "    qtd, tipo = entrada.split()\n",
        "    qtd = int(qtd)\n",
        "\n",
        "    total += qtd\n",
        "    if tipo.upper() == 'C':\n",
        "        coelhos += qtd\n",
        "    elif tipo.upper() == 'R':\n",
        "        ratos += qtd\n",
        "    elif tipo.upper() == 'S':\n",
        "        sapos += qtd\n",
        "\n",
        "    contador += 1\n",
        "\n",
        "print(\"Total:\", total, \"cobaias\")\n",
        "print(\"Total de coelhos:\", coelhos)\n",
        "print(\"Total de ratos:\", ratos)\n",
        "print(\"Total de sapos:\", sapos)\n",
        "\n",
        "print(f\"Percentual de coelhos: {coelhos/total*100:.2f} %\")\n",
        "print(f\"Percentual de ratos: {ratos/total*100:.2f} %\")\n",
        "print(f\"Percentual de sapos: {sapos/total*100:.2f} %\")\n"
      ],
      "metadata": {
        "colab": {
          "base_uri": "https://localhost:8080/"
        },
        "id": "Vwn_D0I9s3RH",
        "outputId": "24818d6c-5851-43b3-f642-7abcdc4bd505"
      },
      "execution_count": 7,
      "outputs": [
        {
          "output_type": "stream",
          "name": "stdout",
          "text": [
            "Digite a quantidade de experimentos: 3\n",
            "Digite a quantidade e o tipo de cobaia (ex: '10 C'): 50 coelhos\n",
            "Digite a quantidade e o tipo de cobaia (ex: '10 C'): 37 ratos\n",
            "Digite a quantidade e o tipo de cobaia (ex: '10 C'): 25 sapos\n",
            "Total: 112 cobaias\n",
            "Total de coelhos: 0\n",
            "Total de ratos: 0\n",
            "Total de sapos: 0\n",
            "Percentual de coelhos: 0.00 %\n",
            "Percentual de ratos: 0.00 %\n",
            "Percentual de sapos: 0.00 %\n"
          ]
        }
      ]
    }
  ]
}