{
  "nbformat": 4,
  "nbformat_minor": 0,
  "metadata": {
    "colab": {
      "provenance": []
    },
    "kernelspec": {
      "name": "python3",
      "display_name": "Python 3"
    },
    "language_info": {
      "name": "python"
    }
  },
  "cells": [
    {
      "cell_type": "code",
      "execution_count": 1,
      "metadata": {
        "colab": {
          "base_uri": "https://localhost:8080/"
        },
        "id": "-fcSTYw-5jHW",
        "outputId": "210700f6-e76e-4932-8a18-39b6824486aa"
      },
      "outputs": [
        {
          "output_type": "stream",
          "name": "stdout",
          "text": [
            "Digite pelo menos 4 números inteiros (pressione Enter sem digitar nada para parar):\n",
            "2\n",
            "4\n",
            "6\n",
            "8\n",
            "\n",
            "\n",
            "Lista original: [2, 4, 6, 8]\n",
            "3 primeiros elementos: [2, 4, 6]\n",
            "2 últimos elementos: [6, 8]\n",
            "Lista invertida: [8, 6, 4, 2]\n",
            "Elementos de índice par: [2, 6]\n",
            "Elementos de índice ímpar: [4, 8]\n"
          ]
        }
      ],
      "source": [
        "# aula3_questao1.py\n",
        "\n",
        "# Lê números até o usuário digitar vazio\n",
        "print(\"Digite pelo menos 4 números inteiros (pressione Enter sem digitar nada para parar):\")\n",
        "lista = []\n",
        "while True:\n",
        "    entrada = input()\n",
        "    if entrada == \"\":\n",
        "        if len(lista) >= 4:\n",
        "            break\n",
        "        else:\n",
        "            print(\"Você precisa digitar pelo menos 4 números!\")\n",
        "            continue\n",
        "    lista.append(int(entrada))\n",
        "\n",
        "print(\"\\nLista original:\", lista)\n",
        "print(\"3 primeiros elementos:\", lista[:3])\n",
        "print(\"2 últimos elementos:\", lista[-2:])\n",
        "print(\"Lista invertida:\", lista[::-1])\n",
        "print(\"Elementos de índice par:\", lista[::2])\n",
        "print(\"Elementos de índice ímpar:\", lista[1::2])\n"
      ]
    },
    {
      "cell_type": "code",
      "source": [
        "# aula3_questao2.py\n",
        "\n",
        "# Lista de URLs\n",
        "urls = [\"www.google.com\", \"www.gmail.com\", \"www.github.com\", \"www.reddit.com\", \"www.yahoo.com\"]\n",
        "\n",
        "# Usando fatiamento para remover prefixo \"www.\" e sufixo \".com\"\n",
        "dominios = [url[4:-4] for url in urls]\n",
        "\n",
        "print(\"URLs:\", urls)\n",
        "print(\"Domínios:\", dominios)\n"
      ],
      "metadata": {
        "colab": {
          "base_uri": "https://localhost:8080/"
        },
        "id": "VJUeohiV5yKZ",
        "outputId": "08a4c692-eccc-4309-e405-24a1e611b342"
      },
      "execution_count": 2,
      "outputs": [
        {
          "output_type": "stream",
          "name": "stdout",
          "text": [
            "URLs: ['www.google.com', 'www.gmail.com', 'www.github.com', 'www.reddit.com', 'www.yahoo.com']\n",
            "Domínios: ['google', 'gmail', 'github', 'reddit', 'yahoo']\n"
          ]
        }
      ]
    },
    {
      "cell_type": "code",
      "source": [
        "# aula3_questao3.py\n",
        "\n",
        "import random\n",
        "\n",
        "# Gera lista com 20 elementos entre -10 e 10\n",
        "lista = [random.randint(-10, 10) for _ in range(20)]\n",
        "\n",
        "print(\"Original:\", lista)\n",
        "\n",
        "# Encontrar intervalo com mais números negativos\n",
        "max_negativos = 0\n",
        "inicio, fim = 0, 0\n",
        "\n",
        "# Vamos testar todos os intervalos possíveis\n",
        "for i in range(len(lista)):\n",
        "    for j in range(i+1, len(lista)+1):\n",
        "        sublista = lista[i:j]\n",
        "        qtd_negativos = sum(1 for x in sublista if x < 0)\n",
        "        if qtd_negativos > max_negativos:\n",
        "            max_negativos = qtd_negativos\n",
        "            inicio, fim = i, j\n",
        "\n",
        "# Deleta o intervalo encontrado\n",
        "del lista[inicio:fim]\n",
        "\n",
        "print(\"Editada:\", lista)\n"
      ],
      "metadata": {
        "colab": {
          "base_uri": "https://localhost:8080/"
        },
        "id": "3D23LXGi54_3",
        "outputId": "c371ffde-4bf7-479c-8ad5-bd3a556f5e82"
      },
      "execution_count": 3,
      "outputs": [
        {
          "output_type": "stream",
          "name": "stdout",
          "text": [
            "Original: [-10, 6, 2, 2, -6, -1, 8, 3, 3, 6, 1, 5, -10, -5, -10, 9, 6, -3, -6, 3]\n",
            "Editada: [3]\n"
          ]
        }
      ]
    }
  ]
}