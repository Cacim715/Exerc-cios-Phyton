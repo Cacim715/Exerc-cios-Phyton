{
  "nbformat": 4,
  "nbformat_minor": 0,
  "metadata": {
    "colab": {
      "provenance": []
    },
    "kernelspec": {
      "name": "python3",
      "display_name": "Python 3"
    },
    "language_info": {
      "name": "python"
    }
  },
  "cells": [
    {
      "cell_type": "code",
      "execution_count": 1,
      "metadata": {
        "colab": {
          "base_uri": "https://localhost:8080/"
        },
        "id": "mpoEIQ-8QnxJ",
        "outputId": "c65af19b-af29-474d-c2c2-a0559eb2e691"
      },
      "outputs": [
        {
          "output_type": "stream",
          "name": "stdout",
          "text": [
            "{'p': 2, 'y': 1, 't': 1, 'h': 1, 'o': 2, 'n': 2, ' ': 1, 'r': 2, 'g': 2, 'a': 1, 'm': 2, 'i': 1}\n"
          ]
        }
      ],
      "source": [
        "def contagem_caracteres(texto):\n",
        "    contagem = {}\n",
        "    for char in texto:\n",
        "        if char in contagem:\n",
        "            contagem[char] += 1\n",
        "        else:\n",
        "            contagem[char] = 1\n",
        "    return contagem\n",
        "\n",
        "# Exemplo de uso\n",
        "frase = \"python programming\"\n",
        "resultado = contagem_caracteres(frase)\n",
        "print(resultado)\n"
      ]
    },
    {
      "cell_type": "code",
      "source": [
        "# Lembre-se de baixar o arquivo \"estomago.txt\" antes de executar\n",
        "with open(\"estomago.txt\", \"r\", encoding=\"utf-8\") as arquivo:\n",
        "    texto = arquivo.read().lower()  # Coloca tudo em minúsculo para uniformidade\n",
        "\n",
        "# Remove pontuação básica\n",
        "import string\n",
        "for char in string.punctuation:\n",
        "    texto = texto.replace(char, \"\")\n",
        "\n",
        "palavras = texto.split()\n",
        "contagem_palavras = {}\n",
        "\n",
        "for palavra in palavras:\n",
        "    if palavra in contagem_palavras:\n",
        "        contagem_palavras[palavra] += 1\n",
        "    else:\n",
        "        contagem_palavras[palavra] = 1\n",
        "\n",
        "# Ordena por frequência decrescente\n",
        "contagem_ordenada = dict(sorted(contagem_palavras.items(), key=lambda item: item[1], reverse=True))\n",
        "print(contagem_ordenada)\n"
      ],
      "metadata": {
        "colab": {
          "base_uri": "https://localhost:8080/",
          "height": 211
        },
        "id": "qTrBVyU1QtrG",
        "outputId": "0214cc95-9f41-45e4-c8f5-21641b8c30b7"
      },
      "execution_count": 2,
      "outputs": [
        {
          "output_type": "error",
          "ename": "FileNotFoundError",
          "evalue": "[Errno 2] No such file or directory: 'estomago.txt'",
          "traceback": [
            "\u001b[0;31m---------------------------------------------------------------------------\u001b[0m",
            "\u001b[0;31mFileNotFoundError\u001b[0m                         Traceback (most recent call last)",
            "\u001b[0;32m/tmp/ipython-input-3738758135.py\u001b[0m in \u001b[0;36m<cell line: 0>\u001b[0;34m()\u001b[0m\n\u001b[1;32m      1\u001b[0m \u001b[0;31m# Lembre-se de baixar o arquivo \"estomago.txt\" antes de executar\u001b[0m\u001b[0;34m\u001b[0m\u001b[0;34m\u001b[0m\u001b[0m\n\u001b[0;32m----> 2\u001b[0;31m \u001b[0;32mwith\u001b[0m \u001b[0mopen\u001b[0m\u001b[0;34m(\u001b[0m\u001b[0;34m\"estomago.txt\"\u001b[0m\u001b[0;34m,\u001b[0m \u001b[0;34m\"r\"\u001b[0m\u001b[0;34m,\u001b[0m \u001b[0mencoding\u001b[0m\u001b[0;34m=\u001b[0m\u001b[0;34m\"utf-8\"\u001b[0m\u001b[0;34m)\u001b[0m \u001b[0;32mas\u001b[0m \u001b[0marquivo\u001b[0m\u001b[0;34m:\u001b[0m\u001b[0;34m\u001b[0m\u001b[0;34m\u001b[0m\u001b[0m\n\u001b[0m\u001b[1;32m      3\u001b[0m     \u001b[0mtexto\u001b[0m \u001b[0;34m=\u001b[0m \u001b[0marquivo\u001b[0m\u001b[0;34m.\u001b[0m\u001b[0mread\u001b[0m\u001b[0;34m(\u001b[0m\u001b[0;34m)\u001b[0m\u001b[0;34m.\u001b[0m\u001b[0mlower\u001b[0m\u001b[0;34m(\u001b[0m\u001b[0;34m)\u001b[0m  \u001b[0;31m# Coloca tudo em minúsculo para uniformidade\u001b[0m\u001b[0;34m\u001b[0m\u001b[0;34m\u001b[0m\u001b[0m\n\u001b[1;32m      4\u001b[0m \u001b[0;34m\u001b[0m\u001b[0m\n\u001b[1;32m      5\u001b[0m \u001b[0;31m# Remove pontuação básica\u001b[0m\u001b[0;34m\u001b[0m\u001b[0;34m\u001b[0m\u001b[0m\n",
            "\u001b[0;31mFileNotFoundError\u001b[0m: [Errno 2] No such file or directory: 'estomago.txt'"
          ]
        }
      ]
    },
    {
      "cell_type": "code",
      "source": [
        "def mesclar_dicionarios(d1, d2):\n",
        "    resultado = d1.copy()\n",
        "    for chave, valor in d2.items():\n",
        "        if chave in resultado:\n",
        "            resultado[chave] = max(resultado[chave], valor)\n",
        "        else:\n",
        "            resultado[chave] = valor\n",
        "    return resultado\n",
        "\n",
        "# Exemplo de uso\n",
        "dicionario1 = {'a': 1, 'b': 2, 'c': 3}\n",
        "dicionario2 = {'b': 4, 'd': 5}\n",
        "resultado = mesclar_dicionarios(dicionario1, dicionario2)\n",
        "print(resultado)\n"
      ],
      "metadata": {
        "colab": {
          "base_uri": "https://localhost:8080/"
        },
        "id": "R-aH6s29Q7St",
        "outputId": "a226e662-b411-4830-8369-e68995df8f4d"
      },
      "execution_count": 4,
      "outputs": [
        {
          "output_type": "stream",
          "name": "stdout",
          "text": [
            "{'a': 1, 'b': 4, 'c': 3, 'd': 5}\n"
          ]
        }
      ]
    },
    {
      "cell_type": "code",
      "source": [
        "def resultado_votacao(lista_votos):\n",
        "    total_votos_candidato = {}\n",
        "\n",
        "    # Soma os votos de cada candidato\n",
        "    for voto in lista_votos:\n",
        "        for candidato, qtd in voto.items():\n",
        "            if candidato in total_votos_candidato:\n",
        "                total_votos_candidato[candidato] += qtd\n",
        "            else:\n",
        "                total_votos_candidato[candidato] = qtd\n",
        "\n",
        "    total_geral = sum(total_votos_candidato.values())\n",
        "\n",
        "    # Cria dicionário com (total, percentual)\n",
        "    resultado = {candidato: (total, round(total / total_geral * 100, 2))\n",
        "                 for candidato, total in total_votos_candidato.items()}\n",
        "\n",
        "    return resultado\n",
        "\n",
        "# Exemplo de uso\n",
        "votos = [\n",
        "    {'candidato_A': 120, 'candidato_B': 85, 'candidato_C': 90},\n",
        "    {'candidato_A': 110, 'candidato_B': 95, 'candidato_C': 80},\n",
        "    {'candidato_A': 130, 'candidato_B': 78, 'candidato_C': 105},\n",
        "]\n",
        "resultado = resultado_votacao(votos)\n",
        "print(resultado)\n"
      ],
      "metadata": {
        "colab": {
          "base_uri": "https://localhost:8080/"
        },
        "id": "ppAthchARGKi",
        "outputId": "a1b7e074-3d92-4742-ce8d-5211877ed828"
      },
      "execution_count": 6,
      "outputs": [
        {
          "output_type": "stream",
          "name": "stdout",
          "text": [
            "{'candidato_A': (360, 40.31), 'candidato_B': (258, 28.89), 'candidato_C': (275, 30.8)}\n"
          ]
        }
      ]
    },
    {
      "cell_type": "code",
      "source": [
        "def filtrar_dicionario(dicionario, chaves):\n",
        "    return {chave: dicionario[chave] for chave in chaves if chave in dicionario}\n",
        "\n",
        "# Exemplo de uso\n",
        "dados = {'a': 1, 'b': 2, 'c': 3, 'd': 4, 'e': 5}\n",
        "chaves_filtradas = ['a', 'c', 'e']\n",
        "resultado = filtrar_dicionario(dados, chaves_filtradas)\n",
        "print(resultado)\n"
      ],
      "metadata": {
        "colab": {
          "base_uri": "https://localhost:8080/"
        },
        "id": "mahK3SNTQ_0T",
        "outputId": "49daede9-f4b7-4493-fabc-65500e9fd26a"
      },
      "execution_count": 5,
      "outputs": [
        {
          "output_type": "stream",
          "name": "stdout",
          "text": [
            "{'a': 1, 'c': 3, 'e': 5}\n"
          ]
        }
      ]
    },
    {
      "cell_type": "code",
      "metadata": {
        "id": "0c458be8"
      },
      "source": [
        "# Assuming the file is available at this URL.\n",
        "# If not, replace with the correct URL or upload the file.\n",
        "!wget -q https://www.gutenberg.org/files/25017/25017-0.txt -O estomago.txt"
      ],
      "execution_count": 3,
      "outputs": []
    }
  ]
}