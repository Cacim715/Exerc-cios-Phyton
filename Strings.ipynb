{
  "nbformat": 4,
  "nbformat_minor": 0,
  "metadata": {
    "colab": {
      "provenance": []
    },
    "kernelspec": {
      "name": "python3",
      "display_name": "Python 3"
    },
    "language_info": {
      "name": "python"
    }
  },
  "cells": [
    {
      "cell_type": "code",
      "execution_count": 1,
      "metadata": {
        "colab": {
          "base_uri": "https://localhost:8080/"
        },
        "id": "88LYdbKQ_SJF",
        "outputId": "c6cd9c3f-3252-4255-ce63-6d9a3e8eaed9"
      },
      "outputs": [
        {
          "output_type": "stream",
          "name": "stdout",
          "text": [
            "Digite seu nome: Acácio\n",
            "A\n",
            "Ac\n",
            "Acá\n",
            "Acác\n",
            "Acáci\n",
            "Acácio\n"
          ]
        }
      ],
      "source": [
        "# aula1_questao1.py\n",
        "nome = input(\"Digite seu nome: \")\n",
        "for i in range(1, len(nome)+1):\n",
        "    print(nome[:i])\n"
      ]
    },
    {
      "cell_type": "code",
      "source": [
        "# aula1_questao2.py\n",
        "primeiro_nome = input(\"Digite seu primeiro nome: \")\n",
        "sobrenome = input(\"Digite seu sobrenome: \")\n",
        "print(f\"Bem-vinda, {primeiro_nome} {sobrenome}!\")\n"
      ],
      "metadata": {
        "colab": {
          "base_uri": "https://localhost:8080/"
        },
        "id": "ybcLtUpY_fLG",
        "outputId": "f89519c8-c85c-49a7-dc7c-29758c2ffc98"
      },
      "execution_count": 2,
      "outputs": [
        {
          "output_type": "stream",
          "name": "stdout",
          "text": [
            "Digite seu primeiro nome: Acácio\n",
            "Digite seu sobrenome: Magalhães\n",
            "Bem-vinda, Acácio Magalhães!\n"
          ]
        }
      ]
    },
    {
      "cell_type": "code",
      "source": [
        "# aula1_questao3.py\n",
        "frase = input(\"Digite a frase: \")\n",
        "espacos = frase.count(\" \")\n",
        "print(f\"Espaços em branco: {espacos}\")\n"
      ],
      "metadata": {
        "colab": {
          "base_uri": "https://localhost:8080/"
        },
        "id": "Dy8U-dZ0_m7o",
        "outputId": "01bc8158-af46-426f-f526-64d76a84c340"
      },
      "execution_count": 3,
      "outputs": [
        {
          "output_type": "stream",
          "name": "stdout",
          "text": [
            "Digite a frase: Você conhece o Mario?\n",
            "Espaços em branco: 3\n"
          ]
        }
      ]
    },
    {
      "cell_type": "code",
      "source": [
        "# aula1_questao4.py\n",
        "numero = input(\"Digite o número: \")\n",
        "\n",
        "if len(numero) == 8:\n",
        "    numero = \"9\" + numero\n",
        "\n",
        "numero_formatado = numero[:5] + \"-\" + numero[5:]\n",
        "print(f\"Número completo: {numero_formatado}\")\n"
      ],
      "metadata": {
        "colab": {
          "base_uri": "https://localhost:8080/"
        },
        "id": "PNFUK590_yHc",
        "outputId": "f2a5a00f-2946-4f6c-8c90-0bea4cb44601"
      },
      "execution_count": 4,
      "outputs": [
        {
          "output_type": "stream",
          "name": "stdout",
          "text": [
            "Digite o número: 9\n",
            "Número completo: 9-\n"
          ]
        }
      ]
    },
    {
      "cell_type": "code",
      "source": [
        "# aula1_questao5.py\n",
        "frase = input(\"Digite uma frase: \")\n",
        "vogais = \"aeiouAEIOU\"\n",
        "indices = [i for i, c in enumerate(frase) if c in vogais]\n",
        "print(f\"{len(indices)} vogais\")\n",
        "print(f\"Índices {indices}\")\n"
      ],
      "metadata": {
        "colab": {
          "base_uri": "https://localhost:8080/"
        },
        "id": "MFLR_cQh_4uL",
        "outputId": "324c926c-2d91-41a0-e752-b64a75f19828"
      },
      "execution_count": 5,
      "outputs": [
        {
          "output_type": "stream",
          "name": "stdout",
          "text": [
            "Digite uma frase: Eu gosto muito da miha amiga\n",
            "13 vogais\n",
            "Índices [0, 1, 4, 7, 10, 11, 13, 16, 19, 21, 23, 25, 27]\n"
          ]
        }
      ]
    },
    {
      "cell_type": "code",
      "source": [
        "# aula1_questao6.py\n",
        "frase = input(\"Digite uma frase: \").split()\n",
        "palavra_obj = input(\"Digite a palavra objetivo: \")\n",
        "\n",
        "def eh_anagrama(palavra, objetivo):\n",
        "    return sorted(palavra.lower()) == sorted(objetivo.lower())\n",
        "\n",
        "anagramas = [p for p in frase if eh_anagrama(p, palavra_obj)]\n",
        "print(f\"Anagramas: {anagramas}\")\n"
      ],
      "metadata": {
        "colab": {
          "base_uri": "https://localhost:8080/"
        },
        "id": "X6kBi2poANiW",
        "outputId": "7e27cc72-2fa5-43bf-9d50-d68862e34d7d"
      },
      "execution_count": 6,
      "outputs": [
        {
          "output_type": "stream",
          "name": "stdout",
          "text": [
            "Digite uma frase: O rato roeu a roupa do rei de roma\n",
            "Digite a palavra objetivo: rato\n",
            "Anagramas: ['rato']\n"
          ]
        }
      ]
    },
    {
      "cell_type": "code",
      "source": [
        "# aula1_questao7.py\n",
        "import random\n",
        "\n",
        "def encrypt(nomes):\n",
        "    chave = random.randint(1, 10)\n",
        "    criptografados = []\n",
        "    for nome in nomes:\n",
        "        nova = \"\"\n",
        "        for c in nome:\n",
        "            novo_ord = ord(c) + chave\n",
        "            if novo_ord > 126:\n",
        "                novo_ord = 33 + (novo_ord - 127)\n",
        "            nova += chr(novo_ord)\n",
        "        criptografados.append(nova)\n",
        "    return criptografados, chave\n",
        "\n",
        "nomes = [\"Luana\", \"Ju\", \"Davi\", \"Vivi\", \"Pri\", \"Luiz\"]\n",
        "nomes_cript, chave = encrypt(nomes)\n",
        "print(f\"Chave de criptografia: {chave}\")\n",
        "print(f\"Nomes criptografados: {nomes_cript}\")\n"
      ],
      "metadata": {
        "colab": {
          "base_uri": "https://localhost:8080/"
        },
        "id": "TdsZ3SlxBFGo",
        "outputId": "4cbac0b6-1f96-4161-c287-46eaca7cd4f5"
      },
      "execution_count": 7,
      "outputs": [
        {
          "output_type": "stream",
          "name": "stdout",
          "text": [
            "Chave de criptografia: 4\n",
            "Nomes criptografados: ['Pyere', 'Ny', 'Hezm', 'Zmzm', 'Tvm', 'Pym~']\n"
          ]
        }
      ]
    },
    {
      "cell_type": "code",
      "source": [
        "# aula1_questao8.py\n",
        "cpf = input(\"Digite o CPF (XXX.XXX.XXX-XX): \")\n",
        "cpf_numeros = [int(c) for c in cpf if c.isdigit()]\n",
        "\n",
        "def calc_digito(cpf_parcial):\n",
        "    tamanho = len(cpf_parcial) + 1\n",
        "    soma = sum(cpf_parcial[i] * (tamanho - i) for i in range(len(cpf_parcial)))\n",
        "    resto = soma % 11\n",
        "    return 0 if resto < 2 else 11 - resto\n",
        "\n",
        "dig1 = calc_digito(cpf_numeros[:9])\n",
        "dig2 = calc_digito(cpf_numeros[:9] + [dig1])\n",
        "\n",
        "if cpf_numeros[9] == dig1 and cpf_numeros[10] == dig2:\n",
        "    print(\"Válido\")\n",
        "else:\n",
        "    print(\"Inválido\")\n"
      ],
      "metadata": {
        "colab": {
          "base_uri": "https://localhost:8080/"
        },
        "id": "oT2iP-HoBKen",
        "outputId": "93753db7-5fb4-4824-8cd8-73e8ee2ea2e9"
      },
      "execution_count": 8,
      "outputs": [
        {
          "output_type": "stream",
          "name": "stdout",
          "text": [
            "Digite o CPF (XXX.XXX.XXX-XX): 08500336676\n",
            "Válido\n"
          ]
        }
      ]
    }
  ]
}