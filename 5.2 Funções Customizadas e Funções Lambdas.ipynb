{
  "nbformat": 4,
  "nbformat_minor": 0,
  "metadata": {
    "colab": {
      "provenance": []
    },
    "kernelspec": {
      "name": "python3",
      "display_name": "Python 3"
    },
    "language_info": {
      "name": "python"
    }
  },
  "cells": [
    {
      "cell_type": "code",
      "execution_count": 1,
      "metadata": {
        "colab": {
          "base_uri": "https://localhost:8080/"
        },
        "id": "Roqw57yOz_OO",
        "outputId": "4709880f-51aa-4488-a3de-43b0dbac8462"
      },
      "outputs": [
        {
          "output_type": "stream",
          "name": "stdout",
          "text": [
            "Digite um número inteiro para calcular o fatorial: 9\n",
            "O fatorial de 9 é 362880\n"
          ]
        }
      ],
      "source": [
        "# aula2_questao1.py\n",
        "\n",
        "def fatorial(n):\n",
        "    fat = 1\n",
        "    for i in range(1, n + 1):\n",
        "        fat *= i\n",
        "    return fat\n",
        "\n",
        "# Programa principal\n",
        "n = int(input(\"Digite um número inteiro para calcular o fatorial: \"))\n",
        "print(f\"O fatorial de {n} é {fatorial(n)}\")\n"
      ]
    },
    {
      "cell_type": "code",
      "source": [
        "# aula2_questao2.py\n",
        "\n",
        "def soma_quadrados(a, b):\n",
        "    return a**2 + b**2\n",
        "\n",
        "# Programa principal\n",
        "num1 = int(input(\"Digite o primeiro número: \"))\n",
        "num2 = int(input(\"Digite o segundo número: \"))\n",
        "\n",
        "print(f\"A soma dos quadrados é: {soma_quadrados(num1, num2)}\")\n"
      ],
      "metadata": {
        "colab": {
          "base_uri": "https://localhost:8080/"
        },
        "id": "lYszQ8Qg0Wyv",
        "outputId": "b1258981-b5b1-4e64-dfe0-de871bf63e9a"
      },
      "execution_count": 2,
      "outputs": [
        {
          "output_type": "stream",
          "name": "stdout",
          "text": [
            "Digite o primeiro número: 5\n",
            "Digite o segundo número: 7\n",
            "A soma dos quadrados é: 74\n"
          ]
        }
      ]
    },
    {
      "cell_type": "code",
      "source": [
        "# aula2_questao3.py\n",
        "\n",
        "def soma_digitos(n):\n",
        "    soma = 0\n",
        "    while n > 0:\n",
        "        soma += n % 10\n",
        "        n //= 10\n",
        "    return soma\n",
        "\n",
        "# Programa principal\n",
        "numero = int(input(\"Digite um número inteiro: \"))\n",
        "print(f\"A soma dos dígitos é: {soma_digitos(numero)}\")\n"
      ],
      "metadata": {
        "colab": {
          "base_uri": "https://localhost:8080/"
        },
        "id": "F-W1dO0S0eCQ",
        "outputId": "b3cc3e07-9698-4f9b-9a45-7a5de1f347af"
      },
      "execution_count": 3,
      "outputs": [
        {
          "output_type": "stream",
          "name": "stdout",
          "text": [
            "Digite um número inteiro: 6\n",
            "A soma dos dígitos é: 6\n"
          ]
        }
      ]
    },
    {
      "cell_type": "code",
      "source": [
        "# aula2_questao4.py\n",
        "\n",
        "def inverteValor(n):\n",
        "    invertido = 0\n",
        "    while n > 0:\n",
        "        resto = n % 10\n",
        "        invertido = invertido * 10 + resto\n",
        "        n //= 10\n",
        "    return invertido\n",
        "\n",
        "def verificaInverso(original, invertido):\n",
        "    return (original % 2 == invertido % 2)\n",
        "\n",
        "# Programa principal\n",
        "valor = int(input(\"Digite um valor inteiro: \"))\n",
        "invertido = inverteValor(valor)\n",
        "\n",
        "print(f\"Valor invertido: {invertido}\")\n",
        "print(f\"Mesma paridade (par/ímpar)? {verificaInverso(valor, invertido)}\")\n"
      ],
      "metadata": {
        "colab": {
          "base_uri": "https://localhost:8080/"
        },
        "id": "mhvtUxlJ0nH8",
        "outputId": "772ce0fa-8824-40b9-82a5-1e4f61d7a03a"
      },
      "execution_count": 4,
      "outputs": [
        {
          "output_type": "stream",
          "name": "stdout",
          "text": [
            "Digite um valor inteiro: 8\n",
            "Valor invertido: 8\n",
            "Mesma paridade (par/ímpar)? True\n"
          ]
        }
      ]
    },
    {
      "cell_type": "code",
      "source": [
        "# aula2_questao5.py\n",
        "\n",
        "import math\n",
        "\n",
        "def calcula_perimetro_triangulo(a, b, c):\n",
        "    return a + b + c\n",
        "\n",
        "def calcula_perimetro_circulo(raio):\n",
        "    return 2 * math.pi * raio\n",
        "\n",
        "def calcula_perimetro_retangulo(lado1, lado2=0):\n",
        "    if lado2 == 0:  # quadrado\n",
        "        return 4 * lado1\n",
        "    else:\n",
        "        return 2 * (lado1 + lado2)\n",
        "\n",
        "# Programa principal\n",
        "while True:\n",
        "    print(\"\\n1 - Calcular perímetro triângulo\")\n",
        "    print(\"2 - Calcular perímetro círculo\")\n",
        "    print(\"3 - Calcular perímetro retângulo\")\n",
        "    print(\"4 - Sair\")\n",
        "\n",
        "    opcao = int(input(\"Opção: \"))\n",
        "\n",
        "    if opcao == 1:\n",
        "        a = int(input(\"Digite o lado 1: \"))\n",
        "        b = int(input(\"Digite o lado 2: \"))\n",
        "        c = int(input(\"Digite o lado 3: \"))\n",
        "        print(f\"O perímetro é: {calcula_perimetro_triangulo(a, b, c)}\")\n",
        "\n",
        "    elif opcao == 2:\n",
        "        r = int(input(\"Digite o raio do círculo: \"))\n",
        "        print(f\"O perímetro é: {calcula_perimetro_circulo(r):.2f}\")\n",
        "\n",
        "    elif opcao == 3:\n",
        "        l1 = int(input(\"Digite o lado 1: \"))\n",
        "        l2 = int(input(\"Digite o lado 2 (0 se for quadrado): \"))\n",
        "        print(f\"O perímetro é: {calcula_perimetro_retangulo(l1, l2)}\")\n",
        "\n",
        "    elif opcao == 4:\n",
        "        print(\"Saindo do programa...\")\n",
        "        break\n",
        "\n",
        "    else:\n",
        "        print(\"Opção inválida!\")\n"
      ],
      "metadata": {
        "colab": {
          "base_uri": "https://localhost:8080/"
        },
        "id": "a4ylCL2i0uWO",
        "outputId": "357560d8-4bd2-4792-f758-10b821edae3d"
      },
      "execution_count": 5,
      "outputs": [
        {
          "output_type": "stream",
          "name": "stdout",
          "text": [
            "\n",
            "1 - Calcular perímetro triângulo\n",
            "2 - Calcular perímetro círculo\n",
            "3 - Calcular perímetro retângulo\n",
            "4 - Sair\n",
            "Opção: 1\n",
            "Digite o lado 1: 3\n",
            "Digite o lado 2: 7\n",
            "Digite o lado 3: 9\n",
            "O perímetro é: 19\n",
            "\n",
            "1 - Calcular perímetro triângulo\n",
            "2 - Calcular perímetro círculo\n",
            "3 - Calcular perímetro retângulo\n",
            "4 - Sair\n",
            "Opção: 4\n",
            "Saindo do programa...\n"
          ]
        }
      ]
    },
    {
      "cell_type": "code",
      "source": [
        "# aula2_questao6.py\n",
        "\n",
        "# Função lambda\n",
        "par_ou_impar = lambda x: \"par\" if x % 2 == 0 else \"ímpar\"\n",
        "\n",
        "print(\"Digite os valores que deseja verificar a paridade (digite 0 para finalizar):\")\n",
        "\n",
        "while True:\n",
        "    valor = int(input())\n",
        "    if valor == 0:\n",
        "        break\n",
        "    print(par_ou_impar(valor))\n"
      ],
      "metadata": {
        "colab": {
          "base_uri": "https://localhost:8080/"
        },
        "id": "LCaOfKrJ05RM",
        "outputId": "086b2cca-0194-4b64-dedc-d069f09c5a74"
      },
      "execution_count": 6,
      "outputs": [
        {
          "name": "stdout",
          "output_type": "stream",
          "text": [
            "Digite os valores que deseja verificar a paridade (digite 0 para finalizar):\n",
            "6\n",
            "par\n",
            "8\n",
            "par\n",
            "4\n",
            "par\n",
            "0\n"
          ]
        }
      ]
    },
    {
      "cell_type": "code",
      "source": [
        "# aula2_questao7.py\n",
        "\n",
        "opcao = int(input(\"Opções: (1) maior ou (2) menor?\\nOpção: \"))\n",
        "\n",
        "# Definindo função lambda\n",
        "operacao = (lambda x, y: x if x > y else y) if opcao == 1 else (lambda x, y: x if x < y else y)\n",
        "\n",
        "print(\"\\nDigite os valores de entrada. Digite 0 para finalizar:\")\n",
        "\n",
        "valores = []\n",
        "while True:\n",
        "    n = int(input())\n",
        "    if n == 0:\n",
        "        break\n",
        "    valores.append(n)\n",
        "\n",
        "if valores:\n",
        "    resultado = valores[0]\n",
        "    for v in valores[1:]:\n",
        "        resultado = operacao(resultado, v)\n",
        "\n",
        "    if opcao == 1:\n",
        "        print(f\"O maior valor é: {resultado}\")\n",
        "    else:\n",
        "        print(f\"O menor valor é: {resultado}\")\n",
        "else:\n",
        "    print(\"Nenhum valor foi informado.\")\n"
      ],
      "metadata": {
        "colab": {
          "base_uri": "https://localhost:8080/"
        },
        "id": "JgMJxbFJ1IWy",
        "outputId": "8755f79f-f6e7-4b9e-cb6d-7df05f779121"
      },
      "execution_count": 7,
      "outputs": [
        {
          "output_type": "stream",
          "name": "stdout",
          "text": [
            "Opções: (1) maior ou (2) menor?\n",
            "Opção: 1\n",
            "\n",
            "Digite os valores de entrada. Digite 0 para finalizar:\n",
            "7\n",
            "6\n",
            "0\n",
            "O maior valor é: 7\n"
          ]
        }
      ]
    }
  ]
}