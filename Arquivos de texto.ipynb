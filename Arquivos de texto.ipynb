{
  "nbformat": 4,
  "nbformat_minor": 0,
  "metadata": {
    "colab": {
      "provenance": []
    },
    "kernelspec": {
      "name": "python3",
      "display_name": "Python 3"
    },
    "language_info": {
      "name": "python"
    }
  },
  "cells": [
    {
      "cell_type": "code",
      "execution_count": 1,
      "metadata": {
        "colab": {
          "base_uri": "https://localhost:8080/"
        },
        "id": "gGkbA814IGlz",
        "outputId": "c40b3906-384b-4f78-b0e5-0729d312ede8"
      },
      "outputs": [
        {
          "output_type": "stream",
          "name": "stdout",
          "text": [
            "Digite uma frase: Uma Frase\n",
            "Frase salva em /content/frase.txt\n"
          ]
        }
      ],
      "source": [
        "# aula4_questao1.py\n",
        "import os\n",
        "\n",
        "frase = input(\"Digite uma frase: \")\n",
        "\n",
        "# Cria/salva no mesmo diretório do script\n",
        "caminho_arquivo = os.path.join(os.getcwd(), \"frase.txt\")\n",
        "\n",
        "with open(caminho_arquivo, \"w\", encoding=\"utf-8\") as f:\n",
        "    f.write(frase)\n",
        "\n",
        "print(f\"Frase salva em {caminho_arquivo}\")\n"
      ]
    },
    {
      "cell_type": "code",
      "source": [
        "# aula4_questao2.py\n",
        "import re\n",
        "\n",
        "with open(\"frase.txt\", \"r\", encoding=\"utf-8\") as f:\n",
        "    conteudo = f.read()\n",
        "\n",
        "# Pega apenas palavras compostas de letras (considera acentos e ç)\n",
        "palavras = re.findall(r\"[A-Za-zÀ-ÿ]+\", conteudo)\n",
        "\n",
        "with open(\"palavras.txt\", \"w\", encoding=\"utf-8\") as f:\n",
        "    for p in palavras:\n",
        "        f.write(p + \"\\n\")\n",
        "\n",
        "# Exibe o conteúdo final\n",
        "with open(\"palavras.txt\", \"r\", encoding=\"utf-8\") as f:\n",
        "    print(f.read())\n"
      ],
      "metadata": {
        "colab": {
          "base_uri": "https://localhost:8080/"
        },
        "id": "MEFJQeJgIP7E",
        "outputId": "43632d42-9ea5-42ee-d1b2-b43635ea914b"
      },
      "execution_count": 2,
      "outputs": [
        {
          "output_type": "stream",
          "name": "stdout",
          "text": [
            "Uma\n",
            "Frase\n",
            "\n"
          ]
        }
      ]
    },
    {
      "cell_type": "code",
      "source": [
        "# aula4_questao3.py\n",
        "\n",
        "# Abre o arquivo\n",
        "with open(\"estomago.txt\", \"r\", encoding=\"utf-8\") as f:\n",
        "    linhas = f.readlines()\n",
        "\n",
        "# Primeiras 25 linhas\n",
        "print(\"=== Primeiras 25 linhas ===\")\n",
        "for l in linhas[:25]:\n",
        "    print(l.strip())\n",
        "\n",
        "# Número de linhas\n",
        "print(\"\\nTotal de linhas:\", len(linhas))\n",
        "\n",
        "# Linha mais longa\n",
        "maior_linha = max(linhas, key=len)\n",
        "print(\"\\nLinha com maior número de caracteres:\")\n",
        "print(maior_linha.strip())\n",
        "\n",
        "# Contagem de \"Nonato\" e \"Íria\"\n",
        "import re\n",
        "texto = \" \".join(linhas)\n",
        "\n",
        "cont_nonato = len(re.findall(r\"\\b[nN]onato\\b\", texto))\n",
        "cont_iria = len(re.findall(r\"\\b[iI]ría\\b\", texto))  # evita \"iria\"\n",
        "\n",
        "print(f\"\\nMenções a 'Nonato': {cont_nonato}\")\n",
        "print(f\"Menções a 'Íria'  : {cont_iria}\")\n"
      ],
      "metadata": {
        "colab": {
          "base_uri": "https://localhost:8080/",
          "height": 211
        },
        "id": "9ONWeFU3IU7m",
        "outputId": "f26a50ad-bd0c-441c-ace2-34d3086ed0dd"
      },
      "execution_count": 3,
      "outputs": [
        {
          "output_type": "error",
          "ename": "FileNotFoundError",
          "evalue": "[Errno 2] No such file or directory: 'estomago.txt'",
          "traceback": [
            "\u001b[0;31m---------------------------------------------------------------------------\u001b[0m",
            "\u001b[0;31mFileNotFoundError\u001b[0m                         Traceback (most recent call last)",
            "\u001b[0;32m/tmp/ipython-input-3291325454.py\u001b[0m in \u001b[0;36m<cell line: 0>\u001b[0;34m()\u001b[0m\n\u001b[1;32m      2\u001b[0m \u001b[0;34m\u001b[0m\u001b[0m\n\u001b[1;32m      3\u001b[0m \u001b[0;31m# Abre o arquivo\u001b[0m\u001b[0;34m\u001b[0m\u001b[0;34m\u001b[0m\u001b[0m\n\u001b[0;32m----> 4\u001b[0;31m \u001b[0;32mwith\u001b[0m \u001b[0mopen\u001b[0m\u001b[0;34m(\u001b[0m\u001b[0;34m\"estomago.txt\"\u001b[0m\u001b[0;34m,\u001b[0m \u001b[0;34m\"r\"\u001b[0m\u001b[0;34m,\u001b[0m \u001b[0mencoding\u001b[0m\u001b[0;34m=\u001b[0m\u001b[0;34m\"utf-8\"\u001b[0m\u001b[0;34m)\u001b[0m \u001b[0;32mas\u001b[0m \u001b[0mf\u001b[0m\u001b[0;34m:\u001b[0m\u001b[0;34m\u001b[0m\u001b[0;34m\u001b[0m\u001b[0m\n\u001b[0m\u001b[1;32m      5\u001b[0m     \u001b[0mlinhas\u001b[0m \u001b[0;34m=\u001b[0m \u001b[0mf\u001b[0m\u001b[0;34m.\u001b[0m\u001b[0mreadlines\u001b[0m\u001b[0;34m(\u001b[0m\u001b[0;34m)\u001b[0m\u001b[0;34m\u001b[0m\u001b[0;34m\u001b[0m\u001b[0m\n\u001b[1;32m      6\u001b[0m \u001b[0;34m\u001b[0m\u001b[0m\n",
            "\u001b[0;31mFileNotFoundError\u001b[0m: [Errno 2] No such file or directory: 'estomago.txt'"
          ]
        }
      ]
    },
    {
      "cell_type": "code",
      "source": [
        "# aula4_questao4.py\n",
        "import random\n",
        "\n",
        "# Carrega palavras\n",
        "with open(\"gabarito_forca.txt\", \"r\", encoding=\"utf-8\") as f:\n",
        "    palavras = [linha.strip() for linha in f]\n",
        "\n",
        "# Escolhe aleatória\n",
        "palavra = random.choice(palavras).lower()\n",
        "progresso = [\"_\"] * len(palavra)\n",
        "\n",
        "# Carrega enforcado\n",
        "with open(\"gabarito_enforcado.txt\", \"r\", encoding=\"utf-8\") as f:\n",
        "    estagios = f.read().split(\"\\n\\n\")\n",
        "\n",
        "def imprime_enforcado(erros):\n",
        "    print(estagios[erros])\n",
        "\n",
        "erros = 0\n",
        "letras_usadas = set()\n",
        "\n",
        "print(\"Jogo da Forca!\")\n",
        "print(\"Palavra:\", \" \".join(progresso))\n",
        "\n",
        "while erros < 6 and \"_\" in progresso:\n",
        "    letra = input(\"\\nDigite uma letra: \").lower()\n",
        "\n",
        "    if letra in letras_usadas:\n",
        "        print(\"Você já tentou essa letra.\")\n",
        "        continue\n",
        "\n",
        "    letras_usadas.add(letra)\n",
        "\n",
        "    if letra in palavra:\n",
        "        for i, c in enumerate(palavra):\n",
        "            if c == letra:\n",
        "                progresso[i] = letra\n",
        "        print(\"Acertou!\")\n",
        "    else:\n",
        "        erros += 1\n",
        "        print(\"Errou!\")\n",
        "        imprime_enforcado(erros)\n",
        "\n",
        "    print(\" \".join(progresso))\n",
        "\n",
        "if \"_\" not in progresso:\n",
        "    print(\"\\nParabéns, você venceu! 🎉\")\n",
        "else:\n",
        "    print(\"\\nVocê perdeu! A palavra era:\", palavra)\n"
      ],
      "metadata": {
        "colab": {
          "base_uri": "https://localhost:8080/",
          "height": 211
        },
        "id": "1peBMRFxIeRv",
        "outputId": "65b54657-9ccc-4c3d-c66b-3436bbb54f1a"
      },
      "execution_count": 4,
      "outputs": [
        {
          "output_type": "error",
          "ename": "FileNotFoundError",
          "evalue": "[Errno 2] No such file or directory: 'gabarito_forca.txt'",
          "traceback": [
            "\u001b[0;31m---------------------------------------------------------------------------\u001b[0m",
            "\u001b[0;31mFileNotFoundError\u001b[0m                         Traceback (most recent call last)",
            "\u001b[0;32m/tmp/ipython-input-231247036.py\u001b[0m in \u001b[0;36m<cell line: 0>\u001b[0;34m()\u001b[0m\n\u001b[1;32m      3\u001b[0m \u001b[0;34m\u001b[0m\u001b[0m\n\u001b[1;32m      4\u001b[0m \u001b[0;31m# Carrega palavras\u001b[0m\u001b[0;34m\u001b[0m\u001b[0;34m\u001b[0m\u001b[0m\n\u001b[0;32m----> 5\u001b[0;31m \u001b[0;32mwith\u001b[0m \u001b[0mopen\u001b[0m\u001b[0;34m(\u001b[0m\u001b[0;34m\"gabarito_forca.txt\"\u001b[0m\u001b[0;34m,\u001b[0m \u001b[0;34m\"r\"\u001b[0m\u001b[0;34m,\u001b[0m \u001b[0mencoding\u001b[0m\u001b[0;34m=\u001b[0m\u001b[0;34m\"utf-8\"\u001b[0m\u001b[0;34m)\u001b[0m \u001b[0;32mas\u001b[0m \u001b[0mf\u001b[0m\u001b[0;34m:\u001b[0m\u001b[0;34m\u001b[0m\u001b[0;34m\u001b[0m\u001b[0m\n\u001b[0m\u001b[1;32m      6\u001b[0m     \u001b[0mpalavras\u001b[0m \u001b[0;34m=\u001b[0m \u001b[0;34m[\u001b[0m\u001b[0mlinha\u001b[0m\u001b[0;34m.\u001b[0m\u001b[0mstrip\u001b[0m\u001b[0;34m(\u001b[0m\u001b[0;34m)\u001b[0m \u001b[0;32mfor\u001b[0m \u001b[0mlinha\u001b[0m \u001b[0;32min\u001b[0m \u001b[0mf\u001b[0m\u001b[0;34m]\u001b[0m\u001b[0;34m\u001b[0m\u001b[0;34m\u001b[0m\u001b[0m\n\u001b[1;32m      7\u001b[0m \u001b[0;34m\u001b[0m\u001b[0m\n",
            "\u001b[0;31mFileNotFoundError\u001b[0m: [Errno 2] No such file or directory: 'gabarito_forca.txt'"
          ]
        }
      ]
    },
    {
      "cell_type": "code",
      "source": [
        "# aula4_questao5.py\n",
        "\n",
        "livros = [\n",
        "    [\"O Caçador de Pipas\", \"Khaled Hosseini\", 2003, 368],\n",
        "    [\"Torto Arado\", \"Itamar Vieira Junior\", 2019, 264],\n",
        "    [\"Dom Casmurro\", \"Machado de Assis\", 1899, 256],\n",
        "    [\"1984\", \"George Orwell\", 1949, 328],\n",
        "    [\"A Revolução dos Bichos\", \"George Orwell\", 1945, 112],\n",
        "    [\"Memórias Póstumas de Brás Cubas\", \"Machado de Assis\", 1881, 224],\n",
        "    [\"O Hobbit\", \"J.R.R. Tolkien\", 1937, 310],\n",
        "    [\"Senhor dos Anéis\", \"J.R.R. Tolkien\", 1954, 1178],\n",
        "    [\"Harry Potter e a Pedra Filosofal\", \"J.K. Rowling\", 1997, 223],\n",
        "    [\"A Menina que Roubava Livros\", \"Markus Zusak\", 2005, 480],\n",
        "]\n",
        "\n",
        "with open(\"meus_livros.csv\", \"w\", encoding=\"utf-8\") as f:\n",
        "    f.write(\"Título,Autor,Ano de publicação,Número de páginas\\n\")\n",
        "    for livro in livros:\n",
        "        f.write(\",\".join(map(str, livro)) + \"\\n\")\n",
        "\n",
        "print(\"Arquivo 'meus_livros.csv' criado com sucesso!\")\n"
      ],
      "metadata": {
        "colab": {
          "base_uri": "https://localhost:8080/"
        },
        "id": "fD_TFAQ3IooP",
        "outputId": "ff5f1c04-4ea4-42e4-e67f-8f56fbff2c9b"
      },
      "execution_count": 5,
      "outputs": [
        {
          "output_type": "stream",
          "name": "stdout",
          "text": [
            "Arquivo 'meus_livros.csv' criado com sucesso!\n"
          ]
        }
      ]
    },
    {
      "cell_type": "code",
      "source": [
        "# aula4_questao6.py\n",
        "import csv\n",
        "\n",
        "top_por_ano = {}\n",
        "\n",
        "with open(\"spotify-2023.csv\", \"r\", encoding=\"latin-1\") as f:\n",
        "    leitor = csv.reader(f)\n",
        "    cabecalho = next(leitor)  # pula cabeçalho\n",
        "\n",
        "    for linha in leitor:\n",
        "        try:\n",
        "            track_name = linha[0]\n",
        "            artist = linha[1]\n",
        "            artist_count = int(linha[2])\n",
        "            ano = int(linha[3])\n",
        "            streams = int(linha[8])\n",
        "\n",
        "            # ignora casos com mais de um artista (pois vem entre aspas)\n",
        "            if artist_count > 1:\n",
        "                continue\n",
        "\n",
        "            if 2012 <= ano <= 2022:\n",
        "                if ano not in top_por_ano or streams > top_por_ano[ano][3]:\n",
        "                    top_por_ano[ano] = [track_name, artist, ano, streams]\n",
        "\n",
        "        except Exception:\n",
        "            continue\n",
        "\n",
        "# Ordena por ano\n",
        "resultado = [top_por_ano[ano] for ano in sorted(top_por_ano)]\n",
        "\n",
        "print(resultado)\n"
      ],
      "metadata": {
        "colab": {
          "base_uri": "https://localhost:8080/",
          "height": 211
        },
        "id": "pnhY_hu9Itk4",
        "outputId": "ea329d9f-9a4f-4c00-c0ec-28e1f55a943a"
      },
      "execution_count": 6,
      "outputs": [
        {
          "output_type": "error",
          "ename": "FileNotFoundError",
          "evalue": "[Errno 2] No such file or directory: 'spotify-2023.csv'",
          "traceback": [
            "\u001b[0;31m---------------------------------------------------------------------------\u001b[0m",
            "\u001b[0;31mFileNotFoundError\u001b[0m                         Traceback (most recent call last)",
            "\u001b[0;32m/tmp/ipython-input-2600766788.py\u001b[0m in \u001b[0;36m<cell line: 0>\u001b[0;34m()\u001b[0m\n\u001b[1;32m      4\u001b[0m \u001b[0mtop_por_ano\u001b[0m \u001b[0;34m=\u001b[0m \u001b[0;34m{\u001b[0m\u001b[0;34m}\u001b[0m\u001b[0;34m\u001b[0m\u001b[0;34m\u001b[0m\u001b[0m\n\u001b[1;32m      5\u001b[0m \u001b[0;34m\u001b[0m\u001b[0m\n\u001b[0;32m----> 6\u001b[0;31m \u001b[0;32mwith\u001b[0m \u001b[0mopen\u001b[0m\u001b[0;34m(\u001b[0m\u001b[0;34m\"spotify-2023.csv\"\u001b[0m\u001b[0;34m,\u001b[0m \u001b[0;34m\"r\"\u001b[0m\u001b[0;34m,\u001b[0m \u001b[0mencoding\u001b[0m\u001b[0;34m=\u001b[0m\u001b[0;34m\"latin-1\"\u001b[0m\u001b[0;34m)\u001b[0m \u001b[0;32mas\u001b[0m \u001b[0mf\u001b[0m\u001b[0;34m:\u001b[0m\u001b[0;34m\u001b[0m\u001b[0;34m\u001b[0m\u001b[0m\n\u001b[0m\u001b[1;32m      7\u001b[0m     \u001b[0mleitor\u001b[0m \u001b[0;34m=\u001b[0m \u001b[0mcsv\u001b[0m\u001b[0;34m.\u001b[0m\u001b[0mreader\u001b[0m\u001b[0;34m(\u001b[0m\u001b[0mf\u001b[0m\u001b[0;34m)\u001b[0m\u001b[0;34m\u001b[0m\u001b[0;34m\u001b[0m\u001b[0m\n\u001b[1;32m      8\u001b[0m     \u001b[0mcabecalho\u001b[0m \u001b[0;34m=\u001b[0m \u001b[0mnext\u001b[0m\u001b[0;34m(\u001b[0m\u001b[0mleitor\u001b[0m\u001b[0;34m)\u001b[0m  \u001b[0;31m# pula cabeçalho\u001b[0m\u001b[0;34m\u001b[0m\u001b[0;34m\u001b[0m\u001b[0m\n",
            "\u001b[0;31mFileNotFoundError\u001b[0m: [Errno 2] No such file or directory: 'spotify-2023.csv'"
          ]
        }
      ]
    },
    {
      "cell_type": "markdown",
      "metadata": {
        "id": "5b5c9e91"
      },
      "source": [
        "Please upload the `spotify-2023.csv` file to your Colab environment to run the previous cell. You can do this by clicking on the folder icon in the left sidebar, then clicking the upload icon and selecting `spotify-2023.csv` from your local machine."
      ]
    }
  ]
}