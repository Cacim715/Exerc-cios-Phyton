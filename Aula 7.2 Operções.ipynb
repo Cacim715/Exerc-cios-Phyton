{
  "nbformat": 4,
  "nbformat_minor": 0,
  "metadata": {
    "colab": {
      "provenance": []
    },
    "kernelspec": {
      "name": "python3",
      "display_name": "Python 3"
    },
    "language_info": {
      "name": "python"
    }
  },
  "cells": [
    {
      "cell_type": "code",
      "execution_count": 1,
      "metadata": {
        "colab": {
          "base_uri": "https://localhost:8080/"
        },
        "id": "5r7ijsM1FBBF",
        "outputId": "800bb9ff-6073-4382-85d0-45ef797ad1f4"
      },
      "outputs": [
        {
          "output_type": "stream",
          "name": "stdout",
          "text": [
            "Digite sua data de nascimento (dd/mm/aaaa): 26/03/1997\n",
            "Você nasceu em 26 de Março de 1997.\n"
          ]
        }
      ],
      "source": [
        "# aula2_questao1.py\n",
        "\n",
        "meses = [\n",
        "    \"Janeiro\", \"Fevereiro\", \"Março\", \"Abril\", \"Maio\", \"Junho\",\n",
        "    \"Julho\", \"Agosto\", \"Setembro\", \"Outubro\", \"Novembro\", \"Dezembro\"\n",
        "]\n",
        "\n",
        "data = input(\"Digite sua data de nascimento (dd/mm/aaaa): \")\n",
        "\n",
        "dia, mes, ano = data.split(\"/\")\n",
        "mes = int(mes)\n",
        "\n",
        "print(f\"Você nasceu em {dia} de {meses[mes-1]} de {ano}.\")\n"
      ]
    },
    {
      "cell_type": "code",
      "source": [
        "# aula2_questao2.py\n",
        "\n",
        "frase = input(\"Digite uma frase: \")\n",
        "\n",
        "vogais = \"aeiouAEIOU\"\n",
        "frase_modificada = \"\"\n",
        "\n",
        "for letra in frase:\n",
        "    if letra in vogais:\n",
        "        frase_modificada += \"*\"\n",
        "    else:\n",
        "        frase_modificada += letra\n",
        "\n",
        "print(\"Frase modificada:\", frase_modificada)\n"
      ],
      "metadata": {
        "colab": {
          "base_uri": "https://localhost:8080/"
        },
        "id": "adxz31w6F13l",
        "outputId": "de7e9beb-15d5-4768-d11a-4556a85a4dc9"
      },
      "execution_count": 2,
      "outputs": [
        {
          "output_type": "stream",
          "name": "stdout",
          "text": [
            "Digite uma frase: Hoje eu lavei a minha moto\n",
            "Frase modificada: H*j* ** l*v** * m*nh* m*t*\n"
          ]
        }
      ]
    },
    {
      "cell_type": "code",
      "source": [
        "# aula2_questao3.py\n",
        "\n",
        "import string\n",
        "\n",
        "while True:\n",
        "    frase = input('Digite uma frase (digite \"fim\" para encerrar): ')\n",
        "\n",
        "    if frase.lower() == \"fim\":\n",
        "        break\n",
        "\n",
        "    # remove espaços e pontuação, deixa minúscula\n",
        "    frase_limpa = \"\".join(\n",
        "        c.lower() for c in frase if c.isalnum()\n",
        "    )\n",
        "\n",
        "    if frase_limpa == frase_limpa[::-1]:\n",
        "        print(f'\"{frase}\" é palíndromo')\n",
        "    else:\n",
        "        print(f'\"{frase}\" não é palíndromo')\n"
      ],
      "metadata": {
        "colab": {
          "base_uri": "https://localhost:8080/"
        },
        "id": "P64rjh59GE9Z",
        "outputId": "08be8e62-eb99-4ba6-89f8-8e40198026e1"
      },
      "execution_count": 3,
      "outputs": [
        {
          "name": "stdout",
          "output_type": "stream",
          "text": [
            "Digite uma frase (digite \"fim\" para encerrar): paralelepipedo\n",
            "\"paralelepipedo\" não é palíndromo\n",
            "Digite uma frase (digite \"fim\" para encerrar): fim\n"
          ]
        }
      ]
    },
    {
      "cell_type": "code",
      "source": [
        "# aula2_questao4.py\n",
        "\n",
        "import string\n",
        "\n",
        "def validador_senha(senha):\n",
        "    if len(senha) < 8:\n",
        "        return False\n",
        "\n",
        "    tem_maiuscula = any(c.isupper() for c in senha)\n",
        "    tem_minuscula = any(c.islower() for c in senha)\n",
        "    tem_numero = any(c.isdigit() for c in senha)\n",
        "    caracteres_especiais = string.punctuation\n",
        "    tem_especial = any(c in caracteres_especiais for c in senha)\n",
        "\n",
        "    return tem_maiuscula and tem_minuscula and tem_numero and tem_especial\n",
        "\n",
        "\n",
        "# Exemplos de uso:\n",
        "senha1 = \"Senha123@\"\n",
        "senha2 = \"senhafraca\"\n",
        "senha3 = \"Senha_fraca\"\n",
        "\n",
        "print(validador_senha(senha1))  # True\n",
        "print(validador_senha(senha2))  # False\n",
        "print(validador_senha(senha3))  # False\n"
      ],
      "metadata": {
        "colab": {
          "base_uri": "https://localhost:8080/"
        },
        "id": "WrHOeDs7GRwb",
        "outputId": "94865288-b621-4100-c0f4-b4f07789b86f"
      },
      "execution_count": 4,
      "outputs": [
        {
          "output_type": "stream",
          "name": "stdout",
          "text": [
            "True\n",
            "False\n",
            "False\n"
          ]
        }
      ]
    },
    {
      "cell_type": "code",
      "source": [
        "# aula2_questao5.py\n",
        "\n",
        "import random\n",
        "\n",
        "def embaralhar_palavras(frase):\n",
        "    palavras = frase.split()\n",
        "    nova_frase = []\n",
        "\n",
        "    for palavra in palavras:\n",
        "        if len(palavra) > 3:  # só embaralha palavras maiores que 3 letras\n",
        "            meio = list(palavra[1:-1])\n",
        "            random.shuffle(meio)\n",
        "            nova_palavra = palavra[0] + \"\".join(meio) + palavra[-1]\n",
        "            nova_frase.append(nova_palavra)\n",
        "        else:\n",
        "            nova_frase.append(palavra)\n",
        "\n",
        "    return \" \".join(nova_frase)\n",
        "\n",
        "\n",
        "# Exemplo de uso\n",
        "frase = \"Python é uma linguagem de programação\"\n",
        "resultado = embaralhar_palavras(frase)\n",
        "print(resultado)\n"
      ],
      "metadata": {
        "colab": {
          "base_uri": "https://localhost:8080/"
        },
        "id": "hz5BLEgFGYXX",
        "outputId": "05d43275-090f-448e-da85-f87105e7c971"
      },
      "execution_count": 5,
      "outputs": [
        {
          "output_type": "stream",
          "name": "stdout",
          "text": [
            "Pthoyn é uma lugeaignm de paraãmgoçro\n"
          ]
        }
      ]
    }
  ]
}