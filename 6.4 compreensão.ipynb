{
  "nbformat": 4,
  "nbformat_minor": 0,
  "metadata": {
    "colab": {
      "provenance": []
    },
    "kernelspec": {
      "name": "python3",
      "display_name": "Python 3"
    },
    "language_info": {
      "name": "python"
    }
  },
  "cells": [
    {
      "cell_type": "code",
      "execution_count": 1,
      "metadata": {
        "colab": {
          "base_uri": "https://localhost:8080/"
        },
        "id": "TVp8ZlKt67lA",
        "outputId": "053a5e10-e958-4819-e56b-a2ba85a0ff5e"
      },
      "outputs": [
        {
          "output_type": "stream",
          "name": "stdout",
          "text": [
            "[20, 22, 24, 26, 28, 30, 32, 34, 36, 38, 40, 42, 44, 46, 48, 50]\n"
          ]
        }
      ],
      "source": [
        "# Todos os números pares entre 20 e 50\n",
        "pares = [x for x in range(20, 51) if x % 2 == 0]\n",
        "print(pares)\n"
      ]
    },
    {
      "cell_type": "code",
      "source": [
        "# Quadrados de todos os valores da lista [1,2,3,4,5,6,7,8,9]\n",
        "quadrados = [x**2 for x in [1,2,3,4,5,6,7,8,9]]\n",
        "print(quadrados)\n"
      ],
      "metadata": {
        "colab": {
          "base_uri": "https://localhost:8080/"
        },
        "id": "N5PtwXtZ7BBL",
        "outputId": "01ab3da1-1c34-4966-a84a-94d5a19c791f"
      },
      "execution_count": 2,
      "outputs": [
        {
          "output_type": "stream",
          "name": "stdout",
          "text": [
            "[1, 4, 9, 16, 25, 36, 49, 64, 81]\n"
          ]
        }
      ]
    },
    {
      "cell_type": "code",
      "source": [
        "# Todos os números entre 1 e 100 que sejam divisíveis por 7\n",
        "div7 = [x for x in range(1, 101) if x % 7 == 0]\n",
        "print(div7)\n"
      ],
      "metadata": {
        "colab": {
          "base_uri": "https://localhost:8080/"
        },
        "id": "_MPpSPxE7OSX",
        "outputId": "96845fb9-41aa-436b-c602-aeaf21336902"
      },
      "execution_count": 3,
      "outputs": [
        {
          "output_type": "stream",
          "name": "stdout",
          "text": [
            "[7, 14, 21, 28, 35, 42, 49, 56, 63, 70, 77, 84, 91, 98]\n"
          ]
        }
      ]
    },
    {
      "cell_type": "code",
      "source": [
        "# Solicite uma frase do usuário e imprima vogais e consoantes\n",
        "frase = input(\"Digite uma frase: \")\n",
        "\n",
        "vogais = sorted([c for c in frase if c.lower() in \"aeiou\"])\n",
        "consoantes = [c for c in frase if c.isalpha() and c.lower() not in \"aeiou\"]\n",
        "\n",
        "print(\"Vogais:\", vogais)\n",
        "print(\"Consoantes:\", consoantes)\n"
      ],
      "metadata": {
        "colab": {
          "base_uri": "https://localhost:8080/"
        },
        "id": "z3s-E9q57U3N",
        "outputId": "0d4712f6-6084-4572-953e-dd9fb03efdc9"
      },
      "execution_count": 4,
      "outputs": [
        {
          "output_type": "stream",
          "name": "stdout",
          "text": [
            "Digite uma frase: Of the King The Power Demender the best\n",
            "Vogais: ['O', 'e', 'e', 'e', 'e', 'e', 'e', 'e', 'e', 'i', 'o']\n",
            "Consoantes: ['f', 't', 'h', 'K', 'n', 'g', 'T', 'h', 'P', 'w', 'r', 'D', 'm', 'n', 'd', 'r', 't', 'h', 'b', 's', 't']\n"
          ]
        }
      ]
    },
    {
      "cell_type": "code",
      "source": [
        "Digite uma frase: Eu gosto de programar em Python\n",
        "Vogais: ['a', 'a', 'e', 'e', 'o', 'o', 'o', 'o', 'u']\n",
        "Consoantes: ['E', 'g', 's', 't', 'd', 'p', 'r', 'g', 'r', 'm', 'r', 'm', 'P', 'y', 't', 'h', 'n']\n"
      ],
      "metadata": {
        "colab": {
          "base_uri": "https://localhost:8080/",
          "height": 106
        },
        "id": "uEA9bDtG7o5e",
        "outputId": "ada07d9a-d258-4d39-90ad-d56abd38abf4"
      },
      "execution_count": 5,
      "outputs": [
        {
          "output_type": "error",
          "ename": "SyntaxError",
          "evalue": "invalid syntax (ipython-input-2123003057.py, line 1)",
          "traceback": [
            "\u001b[0;36m  File \u001b[0;32m\"/tmp/ipython-input-2123003057.py\"\u001b[0;36m, line \u001b[0;32m1\u001b[0m\n\u001b[0;31m    Digite uma frase: Eu gosto de programar em Python\u001b[0m\n\u001b[0m           ^\u001b[0m\n\u001b[0;31mSyntaxError\u001b[0m\u001b[0;31m:\u001b[0m invalid syntax\n"
          ]
        }
      ]
    },
    {
      "cell_type": "code",
      "source": [
        "# Reescrevendo com compreensão de listas\n",
        "horas_trabalhadas = [40, 37, 45, 40, 40, 48]\n",
        "ganho_por_hora = 20\n",
        "hora_extra = 25\n",
        "\n",
        "pagamentos = [ganho_por_hora * min(h, 40) + hora_extra * max(0, h - 40) for h in horas_trabalhadas]\n",
        "\n",
        "print(pagamentos)\n"
      ],
      "metadata": {
        "colab": {
          "base_uri": "https://localhost:8080/"
        },
        "id": "EdmKxusR76PF",
        "outputId": "299367bb-7656-42e0-91f4-ef95d022b451"
      },
      "execution_count": 6,
      "outputs": [
        {
          "output_type": "stream",
          "name": "stdout",
          "text": [
            "[800, 740, 925, 800, 800, 1000]\n"
          ]
        }
      ]
    },
    {
      "cell_type": "code",
      "source": [
        "# Reescrevendo com compreensão de listas\n",
        "alunos = [\"Maria\", \"Jose\", \"Carla\", \"Sol\"]\n",
        "notas = [35, 50, 20, 80]\n",
        "\n",
        "aprovados = [alunos[i] for i in range(len(notas)) if notas[i] >= 60]\n",
        "\n",
        "print(aprovados)\n"
      ],
      "metadata": {
        "colab": {
          "base_uri": "https://localhost:8080/"
        },
        "id": "cs4G2AaC7_d_",
        "outputId": "377e44d8-7ecf-45ac-9a1e-fe48fed1a292"
      },
      "execution_count": 7,
      "outputs": [
        {
          "output_type": "stream",
          "name": "stdout",
          "text": [
            "['Sol']\n"
          ]
        }
      ]
    }
  ]
}