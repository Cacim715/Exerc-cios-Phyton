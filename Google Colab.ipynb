{
  "nbformat": 4,
  "nbformat_minor": 0,
  "metadata": {
    "colab": {
      "provenance": []
    },
    "kernelspec": {
      "name": "python3",
      "display_name": "Python 3"
    },
    "language_info": {
      "name": "python"
    }
  },
  "cells": [
    {
      "cell_type": "code",
      "execution_count": 3,
      "metadata": {
        "colab": {
          "base_uri": "https://localhost:8080/"
        },
        "id": "QcekHoNxzvHO",
        "outputId": "37beb8aa-70df-40f1-b6fd-ca61cf3fbe22"
      },
      "outputs": [
        {
          "output_type": "stream",
          "name": "stdout",
          "text": [
            "Meu primeiro código\n"
          ]
        }
      ],
      "source": [
        "# =========================\n",
        "# Exercício 01 – Meu primeiro código\n",
        "# =========================\n",
        "\n",
        "# Imprimindo a primeira mensagem\n",
        "print(\"Meu primeiro código\")\n"
      ]
    },
    {
      "cell_type": "code",
      "source": [
        "# =========================\n",
        "# Exercício 02 – Operações Matemáticas\n",
        "# =========================\n",
        "\n",
        "# Definindo variáveis\n",
        "x = 10\n",
        "y = 5\n",
        "\n",
        "# Realizando operações\n",
        "print(\"x + 1 =\", x+1)   # Esperado: 11\n",
        "print(\"y - 2 =\", y-2)   # Esperado: 3\n",
        "print(\"y * x =\", y*x)   # Esperado: 50\n",
        "print(\"x / y =\", x/y)   # Esperado: 2.0\n"
      ],
      "metadata": {
        "colab": {
          "base_uri": "https://localhost:8080/"
        },
        "id": "vBq_1JAP08le",
        "outputId": "261034c1-c5f1-45d5-e505-a7c7a14d326f"
      },
      "execution_count": 4,
      "outputs": [
        {
          "output_type": "stream",
          "name": "stdout",
          "text": [
            "x + 1 = 11\n",
            "y - 2 = 3\n",
            "y * x = 50\n",
            "x / y = 2.0\n"
          ]
        }
      ]
    },
    {
      "cell_type": "code",
      "source": [
        "# =========================\n",
        "# Exercício 03 – Erro de Sintaxe\n",
        "# =========================\n",
        "\n",
        "# Este código vai gerar um erro de sintaxe\n",
        "# Observe que a string não foi fechada\n",
        "print(\"Ola)\n"
      ],
      "metadata": {
        "colab": {
          "base_uri": "https://localhost:8080/",
          "height": 106
        },
        "id": "V1N5F4VT1B0i",
        "outputId": "ff5a55a4-836f-45b3-d19c-8033009b4560"
      },
      "execution_count": 6,
      "outputs": [
        {
          "output_type": "error",
          "ename": "SyntaxError",
          "evalue": "unterminated string literal (detected at line 7) (ipython-input-2641929333.py, line 7)",
          "traceback": [
            "\u001b[0;36m  File \u001b[0;32m\"/tmp/ipython-input-2641929333.py\"\u001b[0;36m, line \u001b[0;32m7\u001b[0m\n\u001b[0;31m    print(\"Ola)\u001b[0m\n\u001b[0m          ^\u001b[0m\n\u001b[0;31mSyntaxError\u001b[0m\u001b[0;31m:\u001b[0m unterminated string literal (detected at line 7)\n"
          ]
        }
      ]
    }
  ]
}