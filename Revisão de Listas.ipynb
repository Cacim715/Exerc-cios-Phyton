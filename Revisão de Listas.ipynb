{
  "nbformat": 4,
  "nbformat_minor": 0,
  "metadata": {
    "colab": {
      "provenance": []
    },
    "kernelspec": {
      "name": "python3",
      "display_name": "Python 3"
    },
    "language_info": {
      "name": "python"
    }
  },
  "cells": [
    {
      "cell_type": "code",
      "execution_count": 1,
      "metadata": {
        "colab": {
          "base_uri": "https://localhost:8080/"
        },
        "id": "HUuHJQwX82gU",
        "outputId": "2574e524-b21f-48ac-dede-28d10b711b9d"
      },
      "outputs": [
        {
          "output_type": "stream",
          "name": "stdout",
          "text": [
            "[7.07, 2.01, 16.62, 78.54]\n"
          ]
        }
      ],
      "source": [
        "import math\n",
        "\n",
        "raios = [1.5, 0.8, 2.3, 5.0]\n",
        "\n",
        "areas = list(map(lambda r: round(math.pi * (r**2), 2), raios))\n",
        "print(areas)  # [7.07, 2.01, 16.62, 78.54]\n"
      ]
    },
    {
      "cell_type": "code",
      "source": [
        "def testa_equilatero(lados):\n",
        "    return lados[0] == lados[1] == lados[2]\n",
        "\n",
        "triangulos = [[2,2,2], [3,4,5], [3,2,2],[4,4,4]]\n",
        "equilateros = list(filter(testa_equilatero, triangulos))\n",
        "print(equilateros)  # [[2,2,2], [4,4,4]]\n"
      ],
      "metadata": {
        "colab": {
          "base_uri": "https://localhost:8080/"
        },
        "id": "LI7H55aY9RHP",
        "outputId": "b0fbcccb-f7f5-4cc9-a9a1-458538181cb2"
      },
      "execution_count": 2,
      "outputs": [
        {
          "output_type": "stream",
          "name": "stdout",
          "text": [
            "[[2, 2, 2], [4, 4, 4]]\n"
          ]
        }
      ]
    },
    {
      "cell_type": "code",
      "source": [
        "def ordena_por_comprimento(lista):\n",
        "    return sorted(lista, key=lambda x: len(x))\n",
        "\n",
        "nomes = [\"Joao\", \"Maria\", \"Jose\", \"Gabriela\", \"Sol\", \"Luna\", \"Bento\", \"Enzo\", \"Fernanda\"]\n",
        "resultado = ordena_por_comprimento(nomes)\n",
        "print(resultado)\n",
        "# ['Sol', 'Joao', 'Jose', 'Luna', 'Enzo', 'Maria', 'Bento', 'Gabriela', 'Fernanda']\n"
      ],
      "metadata": {
        "colab": {
          "base_uri": "https://localhost:8080/"
        },
        "id": "aBNnXFoj9VD3",
        "outputId": "2d1070ad-c518-40ca-bcaf-e9a065802208"
      },
      "execution_count": 3,
      "outputs": [
        {
          "output_type": "stream",
          "name": "stdout",
          "text": [
            "['Sol', 'Joao', 'Jose', 'Luna', 'Enzo', 'Maria', 'Bento', 'Gabriela', 'Fernanda']\n"
          ]
        }
      ]
    },
    {
      "cell_type": "code",
      "source": [
        "n = int(input(\"Digite n: \"))\n",
        "matriz = [[i*j for j in range(n)] for i in range(n)]\n",
        "print(matriz)\n"
      ],
      "metadata": {
        "colab": {
          "base_uri": "https://localhost:8080/"
        },
        "id": "qT_L4Gnp9aTC",
        "outputId": "3f952082-4554-435b-afa2-79a6f447625e"
      },
      "execution_count": 4,
      "outputs": [
        {
          "output_type": "stream",
          "name": "stdout",
          "text": [
            "Digite n: 7\n",
            "[[0, 0, 0, 0, 0, 0, 0], [0, 1, 2, 3, 4, 5, 6], [0, 2, 4, 6, 8, 10, 12], [0, 3, 6, 9, 12, 15, 18], [0, 4, 8, 12, 16, 20, 24], [0, 5, 10, 15, 20, 25, 30], [0, 6, 12, 18, 24, 30, 36]]\n"
          ]
        }
      ]
    },
    {
      "cell_type": "code",
      "source": [
        "def pares_unicos(numeros, soma_objetivo):\n",
        "    pares = set()\n",
        "    for i in range(len(numeros)):\n",
        "        for j in range(i+1, len(numeros)):\n",
        "            if numeros[i] + numeros[j] == soma_objetivo:\n",
        "                pares.add(tuple(sorted((numeros[i], numeros[j]))))\n",
        "    return list(pares)\n",
        "\n",
        "nums = [3, 4, 5, 6, 7]\n",
        "soma = 10\n",
        "resultado = pares_unicos(nums, soma)\n",
        "print(resultado)  # [(3, 7), (4, 6)]\n"
      ],
      "metadata": {
        "colab": {
          "base_uri": "https://localhost:8080/"
        },
        "id": "FWQyXamE9gmH",
        "outputId": "b66cc73c-154e-4b4c-8858-a5b5032adec4"
      },
      "execution_count": 5,
      "outputs": [
        {
          "output_type": "stream",
          "name": "stdout",
          "text": [
            "[(3, 7), (4, 6)]\n"
          ]
        }
      ]
    },
    {
      "cell_type": "code",
      "source": [
        "lista1 = [1, 1, 2, 3, 3, 4, 4, 5, 6, 7]\n",
        "lista2 = [1, 1, 2, 4, 5, 6]\n",
        "\n",
        "resultado = lista1[:]\n",
        "for elem in lista2:\n",
        "    if elem in resultado:\n",
        "        resultado.remove(elem)\n",
        "\n",
        "print(resultado)  # [3, 3, 4, 7]\n"
      ],
      "metadata": {
        "colab": {
          "base_uri": "https://localhost:8080/"
        },
        "id": "Pmb07af49lgb",
        "outputId": "da438662-6d80-4f6e-d784-49255a3e5cf6"
      },
      "execution_count": 6,
      "outputs": [
        {
          "output_type": "stream",
          "name": "stdout",
          "text": [
            "[3, 3, 4, 7]\n"
          ]
        }
      ]
    },
    {
      "cell_type": "code",
      "source": [
        "import random\n",
        "\n",
        "lista = [random.randint(1,100) for i in range(20)]\n",
        "print(\"Lista original:\", lista)\n",
        "\n",
        "while True:\n",
        "    tamanho = int(input(\"Tamanho para divisão: \"))\n",
        "    if tamanho == 0:\n",
        "        break\n",
        "    sublistas = [lista[i:i+tamanho] for i in range(0, len(lista), tamanho)]\n",
        "    print(\"Sublistas:\", sublistas)\n"
      ],
      "metadata": {
        "colab": {
          "base_uri": "https://localhost:8080/"
        },
        "id": "CgJR4_9L9qAv",
        "outputId": "0152d6b5-b0ab-441d-a564-1aacf2781385"
      },
      "execution_count": 7,
      "outputs": [
        {
          "name": "stdout",
          "output_type": "stream",
          "text": [
            "Lista original: [73, 26, 37, 100, 27, 86, 71, 62, 67, 72, 91, 13, 45, 15, 98, 79, 75, 100, 55, 57]\n",
            "Tamanho para divisão: 100\n",
            "Sublistas: [[73, 26, 37, 100, 27, 86, 71, 62, 67, 72, 91, 13, 45, 15, 98, 79, 75, 100, 55, 57]]\n",
            "Tamanho para divisão: 45\n",
            "Sublistas: [[73, 26, 37, 100, 27, 86, 71, 62, 67, 72, 91, 13, 45, 15, 98, 79, 75, 100, 55, 57]]\n",
            "Tamanho para divisão: 20\n",
            "Sublistas: [[73, 26, 37, 100, 27, 86, 71, 62, 67, 72, 91, 13, 45, 15, 98, 79, 75, 100, 55, 57]]\n",
            "Tamanho para divisão: 10\n",
            "Sublistas: [[73, 26, 37, 100, 27, 86, 71, 62, 67, 72], [91, 13, 45, 15, 98, 79, 75, 100, 55, 57]]\n",
            "Tamanho para divisão: 0\n"
          ]
        }
      ]
    },
    {
      "cell_type": "code",
      "source": [
        "def avalia_tabuleiro(tab):\n",
        "    # checar linhas\n",
        "    for linha in tab:\n",
        "        if linha[0] != ' ' and linha[0] == linha[1] == linha[2]:\n",
        "            return linha[0]\n",
        "\n",
        "    # checar colunas\n",
        "    for c in range(3):\n",
        "        if tab[0][c] != ' ' and tab[0][c] == tab[1][c] == tab[2][c]:\n",
        "            return tab[0][c]\n",
        "\n",
        "    # checar diagonais\n",
        "    if tab[0][0] != ' ' and tab[0][0] == tab[1][1] == tab[2][2]:\n",
        "        return tab[0][0]\n",
        "    if tab[0][2] != ' ' and tab[0][2] == tab[1][1] == tab[2][0]:\n",
        "        return tab[0][2]\n",
        "\n",
        "    return \"Empate\"\n",
        "\n",
        "\n",
        "tabuleiro1 = [\n",
        "    ['X', 'O', 'X'],\n",
        "    [' ', 'X', 'O'],\n",
        "    ['O', ' ', 'X']\n",
        "]\n",
        "\n",
        "tabuleiro2 = [\n",
        "    ['X', 'O', 'O'],\n",
        "    ['X', 'X', 'O'],\n",
        "    ['X', 'O', 'X']\n",
        "]\n",
        "\n",
        "tabuleiro3 = [\n",
        "    [' ', ' ', ' '],\n",
        "    ['X', ' ', 'O'],\n",
        "    ['O', 'X', 'X']\n",
        "]\n",
        "\n",
        "tabuleiro4 = [\n",
        "    ['O', 'O', 'O'],\n",
        "    ['X', ' ', 'X'],\n",
        "    ['O', 'X', 'X']\n",
        "]\n",
        "\n",
        "tabuleiro5 = [\n",
        "    ['X', 'X', 'O'],\n",
        "    ['X', ' ', 'O'],\n",
        "    ['O', 'O', 'X']\n",
        "]\n",
        "\n",
        "print(avalia_tabuleiro(tabuleiro1))  # Empate\n",
        "print(avalia_tabuleiro(tabuleiro2))  # X\n",
        "print(avalia_tabuleiro(tabuleiro3))  # Empate\n",
        "print(avalia_tabuleiro(tabuleiro4))  # O\n",
        "print(avalia_tabuleiro(tabuleiro5))  # Empate\n"
      ],
      "metadata": {
        "colab": {
          "base_uri": "https://localhost:8080/"
        },
        "id": "qOV528U1-DoC",
        "outputId": "fabe4028-bd9c-4733-a1ba-57ac7ebbb69f"
      },
      "execution_count": 9,
      "outputs": [
        {
          "output_type": "stream",
          "name": "stdout",
          "text": [
            "X\n",
            "X\n",
            "Empate\n",
            "O\n",
            "Empate\n"
          ]
        }
      ]
    }
  ]
}