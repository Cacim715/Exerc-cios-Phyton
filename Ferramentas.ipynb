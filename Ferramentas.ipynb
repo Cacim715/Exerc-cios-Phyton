{
  "nbformat": 4,
  "nbformat_minor": 0,
  "metadata": {
    "colab": {
      "provenance": []
    },
    "kernelspec": {
      "name": "python3",
      "display_name": "Python 3"
    },
    "language_info": {
      "name": "python"
    }
  },
  "cells": [
    {
      "cell_type": "code",
      "execution_count": 1,
      "metadata": {
        "id": "uXGsf3FL3ZHp"
      },
      "outputs": [],
      "source": [
        "# Módulo 1 - Introdução\n",
        "## Aula 1.4 - Ferramentas\n",
        "### Exercícios\n"
      ]
    },
    {
      "cell_type": "code",
      "source": [
        "# =========================\n",
        "# Exercício 01 – Meu primeiro código\n",
        "# =========================\n",
        "\n",
        "print(\"Meu primeiro código\")  # Saída esperada: Meu primeiro código\n"
      ],
      "metadata": {
        "colab": {
          "base_uri": "https://localhost:8080/"
        },
        "id": "l0NMX3GM33-e",
        "outputId": "bdbbb210-27eb-40b4-fffd-a2858afc40a2"
      },
      "execution_count": 2,
      "outputs": [
        {
          "output_type": "stream",
          "name": "stdout",
          "text": [
            "Meu primeiro código\n"
          ]
        }
      ]
    },
    {
      "cell_type": "code",
      "source": [
        "# =========================\n",
        "# Exercício 02 – Operações Matemáticas\n",
        "# =========================\n",
        "\n",
        "x = 10\n",
        "y = 5\n",
        "\n",
        "print(\"x + 1 =\", x+1)   # Esperado: 11\n",
        "print(\"y - 2 =\", y-2)   # Esperado: 3\n",
        "print(\"y * x =\", y*x)   # Esperado: 50\n",
        "print(\"x / y =\", x/y)   # Esperado: 2.0\n"
      ],
      "metadata": {
        "colab": {
          "base_uri": "https://localhost:8080/"
        },
        "id": "urKXin2K39qx",
        "outputId": "d81fe401-751b-42ff-c97e-297c19128035"
      },
      "execution_count": 3,
      "outputs": [
        {
          "output_type": "stream",
          "name": "stdout",
          "text": [
            "x + 1 = 11\n",
            "y - 2 = 3\n",
            "y * x = 50\n",
            "x / y = 2.0\n"
          ]
        }
      ]
    },
    {
      "cell_type": "code",
      "source": [
        "# =========================\n",
        "# Exercício 03 – Erro de Sintaxe\n",
        "# =========================\n",
        "\n",
        "# Este código vai gerar um erro de sintaxe\n",
        "# Observe que a string não foi fechada corretamente\n",
        "print(\"Ola\")"
      ],
      "metadata": {
        "colab": {
          "base_uri": "https://localhost:8080/"
        },
        "id": "3wAGLUf54GId",
        "outputId": "d93d7acb-d9da-49a9-91c9-69fd47db9193"
      },
      "execution_count": 6,
      "outputs": [
        {
          "output_type": "stream",
          "name": "stdout",
          "text": [
            "Ola\n"
          ]
        }
      ]
    }
  ]
}