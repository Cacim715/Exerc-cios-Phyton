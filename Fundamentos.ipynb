{
  "nbformat": 4,
  "nbformat_minor": 0,
  "metadata": {
    "colab": {
      "provenance": []
    },
    "kernelspec": {
      "name": "python3",
      "display_name": "Python 3"
    },
    "language_info": {
      "name": "python"
    }
  },
  "cells": [
    {
      "cell_type": "code",
      "execution_count": 2,
      "metadata": {
        "colab": {
          "base_uri": "https://localhost:8080/"
        },
        "id": "aGTaYUlQ-XsA",
        "outputId": "b7435219-64b2-4788-9094-1959c720f702"
      },
      "outputs": [
        {
          "output_type": "stream",
          "name": "stdout",
          "text": [
            "<class 'int'>\n",
            "<class 'int'>\n",
            "2.5\n",
            "<class 'float'>\n",
            "o resultado é\n",
            "<class 'str'>\n",
            "10\n",
            "<class 'int'>\n",
            "3.5\n",
            "<class 'float'>\n",
            "13.5\n",
            "<class 'float'>\n",
            "20\n",
            "10\n",
            "Após 3 meses meu novo saldo é\n",
            "515.1505\n"
          ]
        }
      ],
      "source": [
        "# Módulo 2 - Fundamentos\n",
        "# Aula 2.2 - Tipos de Dados - Exercícios\n",
        "\n",
        "# Instruções para submissão: Para cada questão, crie no VSCode um arquivo chamado aula2_questaoX.py, sendo X o número da questão. Faça commit de todos os arquivos para a pasta modulo2 do seu repositório da disciplina no GitHub.\n",
        "\n",
        "# 1 - Transforme o seguinte algoritmo em código. Lembre-se das funções print e type que já conhecemos de forma geral.\n",
        "\n",
        "# Armazene o valor 5 em uma variável e o valor 2 em outra variável\n",
        "var1 = 5\n",
        "var2 = 2\n",
        "\n",
        "# Imprima o tipo de dados dessas duas variáveis\n",
        "print(type(var1))\n",
        "print(type(var2))\n",
        "\n",
        "# Divida a primeira variável (com o valor 5) pela segunda variável (com o valor 2) e armazene o resultado em uma terceira variável\n",
        "var3 = var1 / var2\n",
        "\n",
        "# Imprima a terceira variável e também o seu tipo\n",
        "print(var3)\n",
        "print(type(var3))\n",
        "\n",
        "# 2 - Transforme o seguinte algoritmo em código. Lembre-se das funções print e type que já conhecemos de forma geral.\n",
        "\n",
        "# Armazene o texto \"o resultado é\"  em uma variável, o valor 10 em outra variável, e o valor 3.5 numa terceira variável.\n",
        "text_var = \"o resultado é\"\n",
        "int_var = 10\n",
        "float_var = 3.5\n",
        "\n",
        "# Some os valores da segunda e terceira variável e armazene em outra variável.\n",
        "sum_var = int_var + float_var\n",
        "\n",
        "# Imprima todas as variáveis na ordem de criação e imprima também seus tipos.\n",
        "print(text_var)\n",
        "print(type(text_var))\n",
        "print(int_var)\n",
        "print(type(int_var))\n",
        "print(float_var)\n",
        "print(type(float_var))\n",
        "print(sum_var)\n",
        "print(type(sum_var))\n",
        "\n",
        "\n",
        "# 3 - Dadas duas variáveis v1 = 10 e v2 = 20, utilize uma terceira variável para trocar os valores entre as duas variáveis. Ou seja, ao final v1 terá o valor de v2, e v2 o valor de v1. Você deve usar uma variável auxiliar de troca, não podendo atribuir os novos valores diretamente.\n",
        "\n",
        "v1 = 10\n",
        "v2 = 20\n",
        "\n",
        "# Complete o código aqui.\n",
        "temp = v1\n",
        "v1 = v2\n",
        "v2 = temp\n",
        "\n",
        "print(v1)\n",
        "print(v2)\n",
        "\n",
        "\n",
        "# 4 - Uma conta poupança foi aberta com um depósito de R$500,00. Esta conta é remunerada em 1% de juros ao mês. O código a seguir apresenta uma forma de implementação para calcular três meses de acúmulo de juros. Reescreva esse código usando apenas duas variáveis.\n",
        "\n",
        "juros = 1.01\n",
        "saldo = 500.0\n",
        "\n",
        "# rendimento1 = saldo * juros\n",
        "# rendimento2 = rendimento1 * juros\n",
        "# rendimento3 = rendimento2 * juros\n",
        "\n",
        "saldo = saldo * juros\n",
        "saldo = saldo * juros\n",
        "saldo = saldo * juros\n",
        "\n",
        "print(\"Após 3 meses meu novo saldo é\")\n",
        "print(saldo)"
      ]
    }
  ]
}