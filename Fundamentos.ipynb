{
  "nbformat": 4,
  "nbformat_minor": 0,
  "metadata": {
    "colab": {
      "provenance": []
    },
    "kernelspec": {
      "name": "python3",
      "display_name": "Python 3"
    },
    "language_info": {
      "name": "python"
    }
  },
  "cells": [
    {
      "cell_type": "code",
      "execution_count": null,
      "metadata": {
        "id": "TPpNbJS8D48S"
      },
      "outputs": [],
      "source": [
        "# When prompted in the console below the cell, please provide the inputs manually.\n",
        "# Solicita o comprimento do terreno em metros\n",
        "comprimento = int(input(\"Digite o comprimento do terreno (m): \"))\n",
        "\n",
        "# Solicita a largura do terreno em metros\n",
        "largura = int(input(\"Digite a largura do terreno (m): \"))\n",
        "\n",
        "# Solicita o preço do metro quadrado\n",
        "preco_m2 = float(input(\"Digite o preço do metro quadrado (R$): \"))\n",
        "\n",
        "# Calcula a área do terreno\n",
        "area_m2 = comprimento * largura\n",
        "\n",
        "# Calcula o preço total do terreno\n",
        "preco_total = preco_m2 * area_m2\n",
        "\n",
        "# Imprime o resultado formatado\n",
        "print(f\"O terreno possui {area_m2}m2 e custa R${preco_total:,.2f}\")"
      ]
    },
    {
      "cell_type": "code",
      "source": [
        "# Solicita a temperatura em Fahrenheit\n",
        "f = int(input(\"Digite a temperatura em Fahrenheit: \"))\n",
        "\n",
        "# Converte para Celsius\n",
        "c = int((f - 32) * 5 / 9)\n",
        "\n",
        "# Imprime a temperatura convertida\n",
        "print(f\"{f} graus Fahrenheit são {c} graus Celsius.\")\n"
      ],
      "metadata": {
        "id": "VSaUR93kEP5f"
      },
      "execution_count": null,
      "outputs": []
    },
    {
      "cell_type": "code",
      "source": [
        "# Produto 1\n",
        "nome1 = input(\"Digite o nome do produto 1:\")\n",
        "preco1 = float(input(f\"Digite o preço unitário do produto 1:\"))\n",
        "quant1 = int(input(f\"Digite a quantidade do produto 1:\"))\n",
        "\n",
        "# Produto 2\n",
        "nome2 = input(\"Digite o nome do produto 2:\")\n",
        "preco2 = float(input(f\"Digite o preço unitário do produto 2:\"))\n",
        "quant2 = int(input(f\"Digite a quantidade do produto 2:\"))\n",
        "\n",
        "# Produto 3\n",
        "nome3 = input(\"Digite o nome do produto 3:\")\n",
        "preco3 = float(input(f\"Digite o preço unitário do produto 3:\"))\n",
        "quant3 = int(input(f\"Digite a quantidade do produto 3:\"))\n",
        "\n",
        "# Calcula o total da compra\n",
        "total = preco1*quant1 + preco2*quant2 + preco3*quant3\n",
        "\n",
        "# Imprime o total formatado com separador de milhar e duas casas decimais\n",
        "print(f\"Total: R${total:,.2f}\")\n"
      ],
      "metadata": {
        "id": "bytz73WMEby7"
      },
      "execution_count": null,
      "outputs": []
    },
    {
      "cell_type": "code",
      "source": [
        "# Solicita o valor em reais\n",
        "valor = int(input(\"Digite um valor em reais: \"))\n",
        "\n",
        "# Define as cédulas disponíveis\n",
        "notas = [100, 50, 20, 10, 5, 2, 1]\n",
        "\n",
        "# Para cada nota, calcula a quantidade e atualiza o valor restante\n",
        "for nota in notas:\n",
        "    qtd = valor // nota\n",
        "    valor = valor % nota\n",
        "    print(f\"{qtd} nota(s) de R${nota},00\")\n"
      ],
      "metadata": {
        "id": "M7uwEtj9E0mI"
      },
      "execution_count": null,
      "outputs": []
    },
    {
      "cell_type": "code",
      "source": [
        "Entrada: 576\n",
        "Saída:\n",
        "5 nota(s) de R$100,00\n",
        "1 nota(s) de R$50,00\n",
        "1 nota(s) de R$20,00\n",
        "0 nota(s) de R$10,00\n",
        "1 nota(s) de R$5,00\n",
        "0 nota(s) de R$2,00\n",
        "1 nota(s) de R$1,00\n"
      ],
      "metadata": {
        "id": "EWKm2m7uFMRe"
      },
      "execution_count": null,
      "outputs": []
    }
  ]
}