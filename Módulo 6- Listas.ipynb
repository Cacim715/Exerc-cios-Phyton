{
  "nbformat": 4,
  "nbformat_minor": 0,
  "metadata": {
    "colab": {
      "provenance": []
    },
    "kernelspec": {
      "name": "python3",
      "display_name": "Python 3"
    },
    "language_info": {
      "name": "python"
    }
  },
  "cells": [
    {
      "cell_type": "code",
      "execution_count": 1,
      "metadata": {
        "colab": {
          "base_uri": "https://localhost:8080/"
        },
        "id": "mfcdwyIG2Ss9",
        "outputId": "724b8a92-6066-43e4-d6db-5781181c185f"
      },
      "outputs": [
        {
          "output_type": "stream",
          "name": "stdout",
          "text": [
            "Lista ordenada (sem modificar a original): [-97, -82, -75, -74, -68, -36, -35, -26, -22, -20, 19, 33, 36, 40, 46, 76, 76, 77, 82, 83]\n",
            "Lista original: [77, 33, -75, 82, -35, 76, -97, -22, 46, 36, 83, -36, -68, -74, -82, -20, 40, 19, 76, -26]\n",
            "Índice do maior valor: 10\n",
            "Índice do menor valor: 6\n"
          ]
        }
      ],
      "source": [
        "# aula2_questao1.py\n",
        "\n",
        "import random\n",
        "\n",
        "# Gera 20 valores aleatórios entre -100 e 100\n",
        "lista = [random.randint(-100, 100) for _ in range(20)]\n",
        "\n",
        "print(\"Lista ordenada (sem modificar a original):\", sorted(lista))\n",
        "print(\"Lista original:\", lista)\n",
        "print(\"Índice do maior valor:\", lista.index(max(lista)))\n",
        "print(\"Índice do menor valor:\", lista.index(min(lista)))\n"
      ]
    },
    {
      "cell_type": "code",
      "source": [
        "# aula2_questao2.py\n",
        "\n",
        "import random\n",
        "\n",
        "# Quantidade de elementos aleatória entre 5 e 20\n",
        "num_elementos = random.randint(5, 20)\n",
        "\n",
        "# Lista de elementos entre 1 e 10\n",
        "elementos = [random.randint(1, 10) for _ in range(num_elementos)]\n",
        "\n",
        "print(\"Lista de elementos:\", elementos)\n",
        "print(\"Soma dos valores:\", sum(elementos))\n",
        "print(\"Média dos valores:\", sum(elementos) / len(elementos))\n"
      ],
      "metadata": {
        "colab": {
          "base_uri": "https://localhost:8080/"
        },
        "id": "gYw2p69Y3E6F",
        "outputId": "f2fa1c17-75cb-4104-c77d-f388c31755d2"
      },
      "execution_count": 2,
      "outputs": [
        {
          "output_type": "stream",
          "name": "stdout",
          "text": [
            "Lista de elementos: [10, 7, 4, 10, 10, 3, 8, 9, 4, 10, 9, 6]\n",
            "Soma dos valores: 90\n",
            "Média dos valores: 7.5\n"
          ]
        }
      ]
    },
    {
      "cell_type": "code",
      "source": [
        "# aula2_questao3.py\n",
        "\n",
        "import random\n",
        "\n",
        "# Gera duas listas com 20 valores aleatórios entre 0 e 50\n",
        "lista1 = [random.randint(0, 50) for _ in range(20)]\n",
        "lista2 = [random.randint(0, 50) for _ in range(20)]\n",
        "\n",
        "# Interseção sem duplicatas\n",
        "interseccao = sorted(list(set(lista1) & set(lista2)))\n",
        "\n",
        "print(\"Lista 1:\", lista1)\n",
        "print(\"Lista 2:\", lista2)\n",
        "print(\"Interseccao:\", interseccao)\n",
        "\n",
        "print(\"\\nContagem:\")\n",
        "for valor in interseccao:\n",
        "    print(f\"{valor}: (lista1={lista1.count(valor)}, lista2={lista2.count(valor)})\")\n"
      ],
      "metadata": {
        "colab": {
          "base_uri": "https://localhost:8080/"
        },
        "id": "Jl3TiLwa3KYR",
        "outputId": "1c0a32d5-4235-49fc-cee1-8ab3ada26d2d"
      },
      "execution_count": 3,
      "outputs": [
        {
          "output_type": "stream",
          "name": "stdout",
          "text": [
            "Lista 1: [15, 16, 19, 44, 31, 17, 39, 4, 48, 3, 8, 7, 33, 18, 2, 17, 24, 4, 48, 12]\n",
            "Lista 2: [6, 36, 19, 5, 19, 28, 20, 16, 49, 14, 42, 44, 9, 33, 12, 45, 41, 0, 34, 21]\n",
            "Interseccao: [12, 16, 19, 33, 44]\n",
            "\n",
            "Contagem:\n",
            "12: (lista1=1, lista2=1)\n",
            "16: (lista1=1, lista2=1)\n",
            "19: (lista1=1, lista2=2)\n",
            "33: (lista1=1, lista2=1)\n",
            "44: (lista1=1, lista2=1)\n"
          ]
        }
      ]
    },
    {
      "cell_type": "code",
      "source": [
        "# aula2_questao4.py\n",
        "\n",
        "# Lê a primeira lista\n",
        "n1 = int(input(\"Digite a quantidade de elementos da lista 1: \"))\n",
        "print(f\"Digite os {n1} elementos da lista 1:\")\n",
        "lista1 = []\n",
        "for _ in range(n1):\n",
        "    while True:\n",
        "        try:\n",
        "            elemento = int(input())\n",
        "            lista1.append(elemento)\n",
        "            break\n",
        "        except ValueError:\n",
        "            print(\"Entrada inválida. Por favor, digite um número inteiro.\")\n",
        "\n",
        "\n",
        "# Lê a segunda lista\n",
        "n2 = int(input(\"Digite a quantidade de elementos da lista 2: \"))\n",
        "print(f\"Digite os {n2} elementos da lista 2:\")\n",
        "lista2 = []\n",
        "for _ in range(n2):\n",
        "    while True:\n",
        "        try:\n",
        "            elemento = int(input())\n",
        "            lista2.append(elemento)\n",
        "            break\n",
        "        except ValueError:\n",
        "            print(\"Entrada inválida. Por favor, digite um número inteiro.\")\n",
        "\n",
        "# Intercala as duas listas\n",
        "lista_intercalada = []\n",
        "for i in range(min(n1, n2)):\n",
        "    lista_intercalada.append(lista1[i])\n",
        "    lista_intercalada.append(lista2[i])\n",
        "\n",
        "# Adiciona os elementos restantes da maior lista\n",
        "if n1 > n2:\n",
        "    lista_intercalada.extend(lista1[n2:])\n",
        "else:\n",
        "    lista_intercalada.extend(lista2[n1:])\n",
        "\n",
        "print(\"Lista intercalada:\", lista_intercalada)"
      ],
      "metadata": {
        "colab": {
          "base_uri": "https://localhost:8080/"
        },
        "id": "2NbisBPA4MW3",
        "outputId": "3d76748b-55f1-4ce9-fc95-da8c41303d8f"
      },
      "execution_count": 8,
      "outputs": [
        {
          "output_type": "stream",
          "name": "stdout",
          "text": [
            "Digite a quantidade de elementos da lista 1: 1\n",
            "Digite os 1 elementos da lista 1:\n",
            "6\n",
            "Digite a quantidade de elementos da lista 2: 1\n",
            "Digite os 1 elementos da lista 2:\n",
            "5\n",
            "Lista intercalada: [6, 5]\n"
          ]
        }
      ]
    }
  ]
}