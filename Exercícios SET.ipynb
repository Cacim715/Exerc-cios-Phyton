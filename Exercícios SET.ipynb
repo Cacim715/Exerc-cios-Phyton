{
  "nbformat": 4,
  "nbformat_minor": 0,
  "metadata": {
    "colab": {
      "provenance": []
    },
    "kernelspec": {
      "name": "python3",
      "display_name": "Python 3"
    },
    "language_info": {
      "name": "python"
    }
  },
  "cells": [
    {
      "cell_type": "code",
      "execution_count": null,
      "metadata": {
        "id": "QSc18sjiKYxj"
      },
      "outputs": [],
      "source": [
        "frase = \"O rato roeu a roupa do Robson\"\n",
        "\n",
        "# Normaliza para minúsculas e cria o set\n",
        "caracteres_unicos = set(frase.lower())\n",
        "\n",
        "# Remove espaços\n",
        "caracteres_unicos.discard(\" \")\n",
        "\n",
        "# Ordena alfabeticamente\n",
        "resultado = sorted(caracteres_unicos)\n",
        "\n",
        "print(\"Caracteres únicos:\", resultado)\n"
      ]
    },
    {
      "cell_type": "code",
      "source": [
        "def tem_elementos_comuns(lista1, lista2):\n",
        "    return len(set(lista1) & set(lista2)) > 0\n",
        "\n",
        "# Teste\n",
        "lista1 = [1, 2, 3, 4]\n",
        "lista2 = [3, 4, 5, 6, 7]\n",
        "resultado = tem_elementos_comuns(lista1, lista2)\n",
        "print(resultado)  # Saída esperada: True\n"
      ],
      "metadata": {
        "colab": {
          "base_uri": "https://localhost:8080/"
        },
        "id": "_imefBuMK2UG",
        "outputId": "a67e6198-e783-4c9c-95fc-afafde045f9a"
      },
      "execution_count": 1,
      "outputs": [
        {
          "output_type": "stream",
          "name": "stdout",
          "text": [
            "True\n"
          ]
        }
      ]
    },
    {
      "cell_type": "code",
      "source": [
        "turmas = [\n",
        "     {'ações comunitárias', 'futebol', 'música', 'rugby'},\n",
        "     {'ações comunitárias', 'música', 'rugby', 'teatro'},\n",
        "     {'música', 'rugby', 'teatro', 'vôlei'},\n",
        "     {'música', 'vôlei', 'rugby'},\n",
        "     {'ações comunitárias', 'futebol', 'rugby', 'teatro', 'vôlei'},\n",
        "     {'ações comunitárias', 'futebol', 'rugby'},\n",
        "     {'ações comunitárias', 'rugby', 'teatro', 'vôlei'},\n",
        "     {'ações comunitárias', 'rugby', 'teatro', 'vôlei'},\n",
        "     {'ações comunitárias', 'rugby', 'vôlei'}\n",
        "]\n",
        "\n",
        "# Interseção de todos os conjuntos\n",
        "comuns = set.intersection(*turmas)\n",
        "\n",
        "print(\"Atividades comuns a todas as turmas:\", comuns)\n"
      ],
      "metadata": {
        "colab": {
          "base_uri": "https://localhost:8080/"
        },
        "id": "PlU8yDYBK7CK",
        "outputId": "670ad3d0-f836-4b38-d403-588b16b22172"
      },
      "execution_count": 3,
      "outputs": [
        {
          "output_type": "stream",
          "name": "stdout",
          "text": [
            "Atividades comuns a todas as turmas: {'rugby'}\n"
          ]
        }
      ]
    },
    {
      "cell_type": "code",
      "source": [
        "A = [1, 4, 5, 7, 9]\n",
        "B = [4, 5, 7, 9]\n",
        "\n",
        "setA = set(A)\n",
        "setB = set(B)\n",
        "\n",
        "if len(A) > len(B):\n",
        "    diferente = setA - setB\n",
        "    print(f\"O elemento {list(diferente)[0]} está faltando na segunda lista\")\n",
        "else:\n",
        "    diferente = setB - setA\n",
        "    print(f\"O elemento {list(diferente)[0]} está faltando na primeira lista\")\n"
      ],
      "metadata": {
        "colab": {
          "base_uri": "https://localhost:8080/"
        },
        "id": "rNru1AAFLAq1",
        "outputId": "5b5c85c1-1f86-4982-fbc3-53645a6be1d2"
      },
      "execution_count": 4,
      "outputs": [
        {
          "output_type": "stream",
          "name": "stdout",
          "text": [
            "O elemento 1 está faltando na segunda lista\n"
          ]
        }
      ]
    },
    {
      "cell_type": "code",
      "source": [
        "import string\n",
        "\n",
        "def checa_panagrama(frase):\n",
        "    alfabeto = set(string.ascii_lowercase)  # todas as letras do alfabeto\n",
        "    frase_set = set(frase.lower())\n",
        "    return alfabeto.issubset(frase_set)\n",
        "\n",
        "# Testes\n",
        "print(\"É um panagrama\" if checa_panagrama(\"The quick brown fox jumps over the lazy dog\") else \"Não é um panagrama\")\n",
        "print(\"É um panagrama\" if checa_panagrama(\"Python é uma linguagem de programação\") else \"Não é um panagrama\")\n"
      ],
      "metadata": {
        "colab": {
          "base_uri": "https://localhost:8080/"
        },
        "id": "k7pcKKE4LE_H",
        "outputId": "30619d8e-6679-4e34-81c6-272e5e78c57e"
      },
      "execution_count": 5,
      "outputs": [
        {
          "output_type": "stream",
          "name": "stdout",
          "text": [
            "É um panagrama\n",
            "Não é um panagrama\n"
          ]
        }
      ]
    }
  ]
}